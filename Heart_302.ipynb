{
 "cells": [
  {
   "cell_type": "code",
   "execution_count": 68,
   "id": "cordless-grain",
   "metadata": {
    "_cell_guid": "b1076dfc-b9ad-4769-8c92-a6c4dae69d19",
    "_uuid": "8f2839f25d086af736a60e9eeb907d3b93b6e0e5",
    "execution": {
     "iopub.execute_input": "2021-05-22T05:41:27.591879Z",
     "iopub.status.busy": "2021-05-22T05:41:27.591535Z",
     "iopub.status.idle": "2021-05-22T05:41:28.601754Z",
     "shell.execute_reply": "2021-05-22T05:41:28.600818Z",
     "shell.execute_reply.started": "2021-05-22T05:41:27.591849Z"
    }
   },
   "outputs": [],
   "source": [
    "#Loading The Libraries\n",
    "import pandas as pd\n",
    "import numpy as np\n",
    "import matplotlib.pyplot as plt\n",
    "import seaborn as sns\n",
    "from collections import Counter\n",
    "from imblearn.over_sampling import SMOTE\n",
    "import warnings\n",
    "warnings.filterwarnings(\"ignore\")\n",
    "\n",
    "#Libraries for model selection\n",
    "from sklearn.linear_model import LogisticRegression\n",
    "from sklearn.svm import LinearSVC\n",
    "from sklearn.naive_bayes import GaussianNB\n",
    "from sklearn.naive_bayes import MultinomialNB\n",
    "from sklearn.tree import DecisionTreeClassifier\n",
    "from sklearn.ensemble import RandomForestClassifier\n",
    "from sklearn.ensemble import RandomForestRegressor\n",
    "from sklearn.ensemble import GradientBoostingClassifier\n",
    "from sklearn.neighbors import KNeighborsClassifier\n",
    "\n",
    "#Libraries for various model parameter selection.\n",
    "from sklearn.model_selection import train_test_split\n",
    "from sklearn.model_selection import GridSearchCV\n",
    "from sklearn.preprocessing import MinMaxScaler\n",
    "from sklearn.preprocessing import StandardScaler\n",
    "from sklearn.metrics import precision_score,recall_score, confusion_matrix, classification_report, accuracy_score, f1_score\n",
    "import scikitplot as skplt\n",
    "from sklearn import metrics\n",
    "from sklearn.dummy import DummyClassifier\n",
    "from sklearn.model_selection import cross_val_score\n",
    "from sklearn.model_selection import RepeatedStratifiedKFold\n",
    "from numpy import mean\n",
    "from numpy import std"
   ]
  },
  {
   "cell_type": "markdown",
   "id": "extraordinary-mills",
   "metadata": {},
   "source": [
    "# Helps predict the likelihood of cardiovascular disease."
   ]
  },
  {
   "cell_type": "code",
   "execution_count": 69,
   "id": "earlier-outdoors",
   "metadata": {
    "_cell_guid": "79c7e3d0-c299-4dcb-8224-4455121ee9b0",
    "_uuid": "d629ff2d2480ee46fbb7e2d37f6b5fab8052498a",
    "execution": {
     "iopub.execute_input": "2021-05-22T05:41:28.603858Z",
     "iopub.status.busy": "2021-05-22T05:41:28.603575Z",
     "iopub.status.idle": "2021-05-22T05:41:28.623535Z",
     "shell.execute_reply": "2021-05-22T05:41:28.62244Z",
     "shell.execute_reply.started": "2021-05-22T05:41:28.60383Z"
    }
   },
   "outputs": [],
   "source": [
    "df = pd.read_csv(\"C:\\\\Users\\\\ASUS\\\\Desktop\\\\Master\\\\AI Trí tuệ nhân tạo\\\\data\\\\heart.csv\")"
   ]
  },
  {
   "cell_type": "code",
   "execution_count": 70,
   "id": "comparable-moore",
   "metadata": {},
   "outputs": [
    {
     "data": {
      "text/html": [
       "<div>\n",
       "<style scoped>\n",
       "    .dataframe tbody tr th:only-of-type {\n",
       "        vertical-align: middle;\n",
       "    }\n",
       "\n",
       "    .dataframe tbody tr th {\n",
       "        vertical-align: top;\n",
       "    }\n",
       "\n",
       "    .dataframe thead th {\n",
       "        text-align: right;\n",
       "    }\n",
       "</style>\n",
       "<table border=\"1\" class=\"dataframe\">\n",
       "  <thead>\n",
       "    <tr style=\"text-align: right;\">\n",
       "      <th></th>\n",
       "      <th>age</th>\n",
       "      <th>sex</th>\n",
       "      <th>cp</th>\n",
       "      <th>trestbps</th>\n",
       "      <th>chol</th>\n",
       "      <th>fbs</th>\n",
       "      <th>restecg</th>\n",
       "      <th>thalach</th>\n",
       "      <th>exang</th>\n",
       "      <th>oldpeak</th>\n",
       "      <th>slope</th>\n",
       "      <th>ca</th>\n",
       "      <th>thal</th>\n",
       "      <th>target</th>\n",
       "    </tr>\n",
       "  </thead>\n",
       "  <tbody>\n",
       "    <tr>\n",
       "      <th>0</th>\n",
       "      <td>52</td>\n",
       "      <td>1</td>\n",
       "      <td>0</td>\n",
       "      <td>125</td>\n",
       "      <td>212</td>\n",
       "      <td>0</td>\n",
       "      <td>1</td>\n",
       "      <td>168</td>\n",
       "      <td>0</td>\n",
       "      <td>1.0</td>\n",
       "      <td>2</td>\n",
       "      <td>2</td>\n",
       "      <td>3</td>\n",
       "      <td>0</td>\n",
       "    </tr>\n",
       "    <tr>\n",
       "      <th>1</th>\n",
       "      <td>53</td>\n",
       "      <td>1</td>\n",
       "      <td>0</td>\n",
       "      <td>140</td>\n",
       "      <td>203</td>\n",
       "      <td>1</td>\n",
       "      <td>0</td>\n",
       "      <td>155</td>\n",
       "      <td>1</td>\n",
       "      <td>3.1</td>\n",
       "      <td>0</td>\n",
       "      <td>0</td>\n",
       "      <td>3</td>\n",
       "      <td>0</td>\n",
       "    </tr>\n",
       "    <tr>\n",
       "      <th>2</th>\n",
       "      <td>70</td>\n",
       "      <td>1</td>\n",
       "      <td>0</td>\n",
       "      <td>145</td>\n",
       "      <td>174</td>\n",
       "      <td>0</td>\n",
       "      <td>1</td>\n",
       "      <td>125</td>\n",
       "      <td>1</td>\n",
       "      <td>2.6</td>\n",
       "      <td>0</td>\n",
       "      <td>0</td>\n",
       "      <td>3</td>\n",
       "      <td>0</td>\n",
       "    </tr>\n",
       "    <tr>\n",
       "      <th>3</th>\n",
       "      <td>61</td>\n",
       "      <td>1</td>\n",
       "      <td>0</td>\n",
       "      <td>148</td>\n",
       "      <td>203</td>\n",
       "      <td>0</td>\n",
       "      <td>1</td>\n",
       "      <td>161</td>\n",
       "      <td>0</td>\n",
       "      <td>0.0</td>\n",
       "      <td>2</td>\n",
       "      <td>1</td>\n",
       "      <td>3</td>\n",
       "      <td>0</td>\n",
       "    </tr>\n",
       "    <tr>\n",
       "      <th>4</th>\n",
       "      <td>62</td>\n",
       "      <td>0</td>\n",
       "      <td>0</td>\n",
       "      <td>138</td>\n",
       "      <td>294</td>\n",
       "      <td>1</td>\n",
       "      <td>1</td>\n",
       "      <td>106</td>\n",
       "      <td>0</td>\n",
       "      <td>1.9</td>\n",
       "      <td>1</td>\n",
       "      <td>3</td>\n",
       "      <td>2</td>\n",
       "      <td>0</td>\n",
       "    </tr>\n",
       "    <tr>\n",
       "      <th>...</th>\n",
       "      <td>...</td>\n",
       "      <td>...</td>\n",
       "      <td>...</td>\n",
       "      <td>...</td>\n",
       "      <td>...</td>\n",
       "      <td>...</td>\n",
       "      <td>...</td>\n",
       "      <td>...</td>\n",
       "      <td>...</td>\n",
       "      <td>...</td>\n",
       "      <td>...</td>\n",
       "      <td>...</td>\n",
       "      <td>...</td>\n",
       "      <td>...</td>\n",
       "    </tr>\n",
       "    <tr>\n",
       "      <th>1020</th>\n",
       "      <td>59</td>\n",
       "      <td>1</td>\n",
       "      <td>1</td>\n",
       "      <td>140</td>\n",
       "      <td>221</td>\n",
       "      <td>0</td>\n",
       "      <td>1</td>\n",
       "      <td>164</td>\n",
       "      <td>1</td>\n",
       "      <td>0.0</td>\n",
       "      <td>2</td>\n",
       "      <td>0</td>\n",
       "      <td>2</td>\n",
       "      <td>1</td>\n",
       "    </tr>\n",
       "    <tr>\n",
       "      <th>1021</th>\n",
       "      <td>60</td>\n",
       "      <td>1</td>\n",
       "      <td>0</td>\n",
       "      <td>125</td>\n",
       "      <td>258</td>\n",
       "      <td>0</td>\n",
       "      <td>0</td>\n",
       "      <td>141</td>\n",
       "      <td>1</td>\n",
       "      <td>2.8</td>\n",
       "      <td>1</td>\n",
       "      <td>1</td>\n",
       "      <td>3</td>\n",
       "      <td>0</td>\n",
       "    </tr>\n",
       "    <tr>\n",
       "      <th>1022</th>\n",
       "      <td>47</td>\n",
       "      <td>1</td>\n",
       "      <td>0</td>\n",
       "      <td>110</td>\n",
       "      <td>275</td>\n",
       "      <td>0</td>\n",
       "      <td>0</td>\n",
       "      <td>118</td>\n",
       "      <td>1</td>\n",
       "      <td>1.0</td>\n",
       "      <td>1</td>\n",
       "      <td>1</td>\n",
       "      <td>2</td>\n",
       "      <td>0</td>\n",
       "    </tr>\n",
       "    <tr>\n",
       "      <th>1023</th>\n",
       "      <td>50</td>\n",
       "      <td>0</td>\n",
       "      <td>0</td>\n",
       "      <td>110</td>\n",
       "      <td>254</td>\n",
       "      <td>0</td>\n",
       "      <td>0</td>\n",
       "      <td>159</td>\n",
       "      <td>0</td>\n",
       "      <td>0.0</td>\n",
       "      <td>2</td>\n",
       "      <td>0</td>\n",
       "      <td>2</td>\n",
       "      <td>1</td>\n",
       "    </tr>\n",
       "    <tr>\n",
       "      <th>1024</th>\n",
       "      <td>54</td>\n",
       "      <td>1</td>\n",
       "      <td>0</td>\n",
       "      <td>120</td>\n",
       "      <td>188</td>\n",
       "      <td>0</td>\n",
       "      <td>1</td>\n",
       "      <td>113</td>\n",
       "      <td>0</td>\n",
       "      <td>1.4</td>\n",
       "      <td>1</td>\n",
       "      <td>1</td>\n",
       "      <td>3</td>\n",
       "      <td>0</td>\n",
       "    </tr>\n",
       "  </tbody>\n",
       "</table>\n",
       "<p>1025 rows × 14 columns</p>\n",
       "</div>"
      ],
      "text/plain": [
       "      age  sex  cp  trestbps  chol  fbs  restecg  thalach  exang  oldpeak  \\\n",
       "0      52    1   0       125   212    0        1      168      0      1.0   \n",
       "1      53    1   0       140   203    1        0      155      1      3.1   \n",
       "2      70    1   0       145   174    0        1      125      1      2.6   \n",
       "3      61    1   0       148   203    0        1      161      0      0.0   \n",
       "4      62    0   0       138   294    1        1      106      0      1.9   \n",
       "...   ...  ...  ..       ...   ...  ...      ...      ...    ...      ...   \n",
       "1020   59    1   1       140   221    0        1      164      1      0.0   \n",
       "1021   60    1   0       125   258    0        0      141      1      2.8   \n",
       "1022   47    1   0       110   275    0        0      118      1      1.0   \n",
       "1023   50    0   0       110   254    0        0      159      0      0.0   \n",
       "1024   54    1   0       120   188    0        1      113      0      1.4   \n",
       "\n",
       "      slope  ca  thal  target  \n",
       "0         2   2     3       0  \n",
       "1         0   0     3       0  \n",
       "2         0   0     3       0  \n",
       "3         2   1     3       0  \n",
       "4         1   3     2       0  \n",
       "...     ...  ..   ...     ...  \n",
       "1020      2   0     2       1  \n",
       "1021      1   1     3       0  \n",
       "1022      1   1     2       0  \n",
       "1023      2   0     2       1  \n",
       "1024      1   1     3       0  \n",
       "\n",
       "[1025 rows x 14 columns]"
      ]
     },
     "execution_count": 70,
     "metadata": {},
     "output_type": "execute_result"
    }
   ],
   "source": [
    "df"
   ]
  },
  {
   "cell_type": "markdown",
   "id": "above-leisure",
   "metadata": {},
   "source": [
    "# PreProcess"
   ]
  },
  {
   "cell_type": "code",
   "execution_count": 71,
   "id": "traditional-polls",
   "metadata": {},
   "outputs": [
    {
     "name": "stdout",
     "output_type": "stream",
     "text": [
      "     age  sex  cp  trestbps  chol  fbs  restecg  thalach  exang  oldpeak  \\\n",
      "0     52    1   0       125   212    0        1      168      0      1.0   \n",
      "1     53    1   0       140   203    1        0      155      1      3.1   \n",
      "2     70    1   0       145   174    0        1      125      1      2.6   \n",
      "3     61    1   0       148   203    0        1      161      0      0.0   \n",
      "4     62    0   0       138   294    1        1      106      0      1.9   \n",
      "..   ...  ...  ..       ...   ...  ...      ...      ...    ...      ...   \n",
      "962   52    1   0       108   233    1        1      147      0      0.1   \n",
      "964   44    0   2       108   141    0        1      175      0      0.6   \n",
      "975   39    1   0       118   219    0        1      140      0      1.2   \n",
      "992   50    0   0       110   254    0        0      159      0      0.0   \n",
      "997   54    1   0       120   188    0        1      113      0      1.4   \n",
      "\n",
      "     slope  ca  thal  target  \n",
      "0        2   2     3       0  \n",
      "1        0   0     3       0  \n",
      "2        0   0     3       0  \n",
      "3        2   1     3       0  \n",
      "4        1   3     2       0  \n",
      "..     ...  ..   ...     ...  \n",
      "962      2   3     3       1  \n",
      "964      1   0     2       1  \n",
      "975      1   0     3       0  \n",
      "992      2   0     2       1  \n",
      "997      1   1     3       0  \n",
      "\n",
      "[723 rows x 14 columns]\n"
     ]
    }
   ],
   "source": [
    "# Find a duplicate rows\n",
    "duplicate_df = df[df.duplicated(keep='last')]\n",
    "print(duplicate_df)"
   ]
  },
  {
   "cell_type": "code",
   "execution_count": 72,
   "id": "attractive-turkish",
   "metadata": {},
   "outputs": [
    {
     "data": {
      "text/plain": [
       "(302, 14)"
      ]
     },
     "execution_count": 72,
     "metadata": {},
     "output_type": "execute_result"
    }
   ],
   "source": [
    "#Drop duplicate rows\n",
    "df = df.drop_duplicates(keep='last')\n",
    "df.reset_index(inplace=True)\n",
    "del df['index']\n",
    "df.shape"
   ]
  },
  {
   "cell_type": "code",
   "execution_count": 73,
   "id": "egyptian-shame",
   "metadata": {},
   "outputs": [
    {
     "data": {
      "text/html": [
       "<div>\n",
       "<style scoped>\n",
       "    .dataframe tbody tr th:only-of-type {\n",
       "        vertical-align: middle;\n",
       "    }\n",
       "\n",
       "    .dataframe tbody tr th {\n",
       "        vertical-align: top;\n",
       "    }\n",
       "\n",
       "    .dataframe thead th {\n",
       "        text-align: right;\n",
       "    }\n",
       "</style>\n",
       "<table border=\"1\" class=\"dataframe\">\n",
       "  <thead>\n",
       "    <tr style=\"text-align: right;\">\n",
       "      <th></th>\n",
       "      <th>age</th>\n",
       "      <th>sex</th>\n",
       "      <th>cp</th>\n",
       "      <th>trestbps</th>\n",
       "      <th>chol</th>\n",
       "      <th>fbs</th>\n",
       "      <th>restecg</th>\n",
       "      <th>thalach</th>\n",
       "      <th>exang</th>\n",
       "      <th>oldpeak</th>\n",
       "      <th>slope</th>\n",
       "      <th>ca</th>\n",
       "      <th>thal</th>\n",
       "      <th>target</th>\n",
       "    </tr>\n",
       "  </thead>\n",
       "  <tbody>\n",
       "    <tr>\n",
       "      <th>0</th>\n",
       "      <td>47</td>\n",
       "      <td>1</td>\n",
       "      <td>2</td>\n",
       "      <td>138</td>\n",
       "      <td>257</td>\n",
       "      <td>0</td>\n",
       "      <td>0</td>\n",
       "      <td>156</td>\n",
       "      <td>0</td>\n",
       "      <td>0.0</td>\n",
       "      <td>2</td>\n",
       "      <td>0</td>\n",
       "      <td>2</td>\n",
       "      <td>1</td>\n",
       "    </tr>\n",
       "    <tr>\n",
       "      <th>1</th>\n",
       "      <td>54</td>\n",
       "      <td>1</td>\n",
       "      <td>1</td>\n",
       "      <td>108</td>\n",
       "      <td>309</td>\n",
       "      <td>0</td>\n",
       "      <td>1</td>\n",
       "      <td>156</td>\n",
       "      <td>0</td>\n",
       "      <td>0.0</td>\n",
       "      <td>2</td>\n",
       "      <td>0</td>\n",
       "      <td>3</td>\n",
       "      <td>1</td>\n",
       "    </tr>\n",
       "    <tr>\n",
       "      <th>2</th>\n",
       "      <td>64</td>\n",
       "      <td>1</td>\n",
       "      <td>3</td>\n",
       "      <td>110</td>\n",
       "      <td>211</td>\n",
       "      <td>0</td>\n",
       "      <td>0</td>\n",
       "      <td>144</td>\n",
       "      <td>1</td>\n",
       "      <td>1.8</td>\n",
       "      <td>1</td>\n",
       "      <td>0</td>\n",
       "      <td>2</td>\n",
       "      <td>1</td>\n",
       "    </tr>\n",
       "    <tr>\n",
       "      <th>3</th>\n",
       "      <td>59</td>\n",
       "      <td>1</td>\n",
       "      <td>2</td>\n",
       "      <td>150</td>\n",
       "      <td>212</td>\n",
       "      <td>1</td>\n",
       "      <td>1</td>\n",
       "      <td>157</td>\n",
       "      <td>0</td>\n",
       "      <td>1.6</td>\n",
       "      <td>2</td>\n",
       "      <td>0</td>\n",
       "      <td>2</td>\n",
       "      <td>1</td>\n",
       "    </tr>\n",
       "    <tr>\n",
       "      <th>4</th>\n",
       "      <td>67</td>\n",
       "      <td>1</td>\n",
       "      <td>0</td>\n",
       "      <td>100</td>\n",
       "      <td>299</td>\n",
       "      <td>0</td>\n",
       "      <td>0</td>\n",
       "      <td>125</td>\n",
       "      <td>1</td>\n",
       "      <td>0.9</td>\n",
       "      <td>1</td>\n",
       "      <td>2</td>\n",
       "      <td>2</td>\n",
       "      <td>0</td>\n",
       "    </tr>\n",
       "    <tr>\n",
       "      <th>...</th>\n",
       "      <td>...</td>\n",
       "      <td>...</td>\n",
       "      <td>...</td>\n",
       "      <td>...</td>\n",
       "      <td>...</td>\n",
       "      <td>...</td>\n",
       "      <td>...</td>\n",
       "      <td>...</td>\n",
       "      <td>...</td>\n",
       "      <td>...</td>\n",
       "      <td>...</td>\n",
       "      <td>...</td>\n",
       "      <td>...</td>\n",
       "      <td>...</td>\n",
       "    </tr>\n",
       "    <tr>\n",
       "      <th>297</th>\n",
       "      <td>59</td>\n",
       "      <td>1</td>\n",
       "      <td>1</td>\n",
       "      <td>140</td>\n",
       "      <td>221</td>\n",
       "      <td>0</td>\n",
       "      <td>1</td>\n",
       "      <td>164</td>\n",
       "      <td>1</td>\n",
       "      <td>0.0</td>\n",
       "      <td>2</td>\n",
       "      <td>0</td>\n",
       "      <td>2</td>\n",
       "      <td>1</td>\n",
       "    </tr>\n",
       "    <tr>\n",
       "      <th>298</th>\n",
       "      <td>60</td>\n",
       "      <td>1</td>\n",
       "      <td>0</td>\n",
       "      <td>125</td>\n",
       "      <td>258</td>\n",
       "      <td>0</td>\n",
       "      <td>0</td>\n",
       "      <td>141</td>\n",
       "      <td>1</td>\n",
       "      <td>2.8</td>\n",
       "      <td>1</td>\n",
       "      <td>1</td>\n",
       "      <td>3</td>\n",
       "      <td>0</td>\n",
       "    </tr>\n",
       "    <tr>\n",
       "      <th>299</th>\n",
       "      <td>47</td>\n",
       "      <td>1</td>\n",
       "      <td>0</td>\n",
       "      <td>110</td>\n",
       "      <td>275</td>\n",
       "      <td>0</td>\n",
       "      <td>0</td>\n",
       "      <td>118</td>\n",
       "      <td>1</td>\n",
       "      <td>1.0</td>\n",
       "      <td>1</td>\n",
       "      <td>1</td>\n",
       "      <td>2</td>\n",
       "      <td>0</td>\n",
       "    </tr>\n",
       "    <tr>\n",
       "      <th>300</th>\n",
       "      <td>50</td>\n",
       "      <td>0</td>\n",
       "      <td>0</td>\n",
       "      <td>110</td>\n",
       "      <td>254</td>\n",
       "      <td>0</td>\n",
       "      <td>0</td>\n",
       "      <td>159</td>\n",
       "      <td>0</td>\n",
       "      <td>0.0</td>\n",
       "      <td>2</td>\n",
       "      <td>0</td>\n",
       "      <td>2</td>\n",
       "      <td>1</td>\n",
       "    </tr>\n",
       "    <tr>\n",
       "      <th>301</th>\n",
       "      <td>54</td>\n",
       "      <td>1</td>\n",
       "      <td>0</td>\n",
       "      <td>120</td>\n",
       "      <td>188</td>\n",
       "      <td>0</td>\n",
       "      <td>1</td>\n",
       "      <td>113</td>\n",
       "      <td>0</td>\n",
       "      <td>1.4</td>\n",
       "      <td>1</td>\n",
       "      <td>1</td>\n",
       "      <td>3</td>\n",
       "      <td>0</td>\n",
       "    </tr>\n",
       "  </tbody>\n",
       "</table>\n",
       "<p>302 rows × 14 columns</p>\n",
       "</div>"
      ],
      "text/plain": [
       "     age  sex  cp  trestbps  chol  fbs  restecg  thalach  exang  oldpeak  \\\n",
       "0     47    1   2       138   257    0        0      156      0      0.0   \n",
       "1     54    1   1       108   309    0        1      156      0      0.0   \n",
       "2     64    1   3       110   211    0        0      144      1      1.8   \n",
       "3     59    1   2       150   212    1        1      157      0      1.6   \n",
       "4     67    1   0       100   299    0        0      125      1      0.9   \n",
       "..   ...  ...  ..       ...   ...  ...      ...      ...    ...      ...   \n",
       "297   59    1   1       140   221    0        1      164      1      0.0   \n",
       "298   60    1   0       125   258    0        0      141      1      2.8   \n",
       "299   47    1   0       110   275    0        0      118      1      1.0   \n",
       "300   50    0   0       110   254    0        0      159      0      0.0   \n",
       "301   54    1   0       120   188    0        1      113      0      1.4   \n",
       "\n",
       "     slope  ca  thal  target  \n",
       "0        2   0     2       1  \n",
       "1        2   0     3       1  \n",
       "2        1   0     2       1  \n",
       "3        2   0     2       1  \n",
       "4        1   2     2       0  \n",
       "..     ...  ..   ...     ...  \n",
       "297      2   0     2       1  \n",
       "298      1   1     3       0  \n",
       "299      1   1     2       0  \n",
       "300      2   0     2       1  \n",
       "301      1   1     3       0  \n",
       "\n",
       "[302 rows x 14 columns]"
      ]
     },
     "execution_count": 73,
     "metadata": {},
     "output_type": "execute_result"
    }
   ],
   "source": [
    "df"
   ]
  },
  {
   "cell_type": "markdown",
   "id": "premier-terrorist",
   "metadata": {},
   "source": [
    "# Visualazition"
   ]
  },
  {
   "cell_type": "code",
   "execution_count": 74,
   "id": "alpine-burton",
   "metadata": {},
   "outputs": [
    {
     "name": "stdout",
     "output_type": "stream",
     "text": [
      "Class=1, n=164 (54.305%)\n",
      "Class=0, n=138 (45.695%)\n"
     ]
    },
    {
     "data": {
      "image/png": "[encoded data removed]",
      "text/plain": [
       "<Figure size 432x288 with 1 Axes>"
      ]
     },
     "metadata": {
      "needs_background": "light"
     },
     "output_type": "display_data"
    }
   ],
   "source": [
    "counter = Counter(df['target'])\n",
    "for k,v in counter.items():\n",
    "    per = v / len(df['target']) * 100\n",
    "    print('Class=%d, n=%d (%.3f%%)' % (k, v, per))\n",
    "key = ['1','0']\n",
    "# creating the bar plot\n",
    "plt.bar(key, list(counter.values()))\n",
    "plt.ylabel(\"Count\")\n",
    "plt.title(\"Số lượng các lớp\")\n",
    "plt.show()"
   ]
  },
  {
   "cell_type": "code",
   "execution_count": 75,
   "id": "false-modification",
   "metadata": {},
   "outputs": [],
   "source": [
    "df.rename(columns ={'age':'Age','sex':'Sex','cp':'Chest_pain','trestbps':'Resting_blood_pressure','chol':'Cholesterol','fbs':'Fasting_blood_sugar',\n",
    "                    'restecg':'ECG_results','thalach':'Maximum_heart_rate','exang':'Exercise_induced_angina','oldpeak':'ST_depression','ca':'Major_vessels',\n",
    "                   'thal':'Thalassemia_types','target':'Heart_attack','slope':'ST_slope'}, inplace = True)"
   ]
  },
  {
   "cell_type": "code",
   "execution_count": 76,
   "id": "skilled-belle",
   "metadata": {},
   "outputs": [
    {
     "data": {
      "image/png": "[encoded data removed]",
      "text/plain": [
       "<Figure size 432x288 with 1 Axes>"
      ]
     },
     "metadata": {
      "needs_background": "light"
     },
     "output_type": "display_data"
    },
    {
     "data": {
      "image/png": "[encoded data removed]",
      "text/plain": [
       "<Figure size 432x288 with 1 Axes>"
      ]
     },
     "metadata": {
      "needs_background": "light"
     },
     "output_type": "display_data"
    },
    {
     "data": {
      "image/png": "[encoded data removed]",
      "text/plain": [
       "<Figure size 432x288 with 1 Axes>"
      ]
     },
     "metadata": {
      "needs_background": "light"
     },
     "output_type": "display_data"
    },
    {
     "data": {
      "image/png": "[encoded data removed]",
      "text/plain": [
       "<Figure size 432x288 with 1 Axes>"
      ]
     },
     "metadata": {
      "needs_background": "light"
     },
     "output_type": "display_data"
    },
    {
     "data": {
      "image/png": "[encoded data removed]",
      "text/plain": [
       "<Figure size 432x288 with 1 Axes>"
      ]
     },
     "metadata": {
      "needs_background": "light"
     },
     "output_type": "display_data"
    },
    {
     "data": {
      "image/png": "[encoded data removed]",
      "text/plain": [
       "<Figure size 432x288 with 1 Axes>"
      ]
     },
     "metadata": {
      "needs_background": "light"
     },
     "output_type": "display_data"
    },
    {
     "data": {
      "image/png": "[encoded data removed]",
      "text/plain": [
       "<Figure size 432x288 with 1 Axes>"
      ]
     },
     "metadata": {
      "needs_background": "light"
     },
     "output_type": "display_data"
    },
    {
     "data": {
      "image/png": "[encoded data removed]",
      "text/plain": [
       "<Figure size 432x288 with 1 Axes>"
      ]
     },
     "metadata": {
      "needs_background": "light"
     },
     "output_type": "display_data"
    },
    {
     "data": {
      "image/png": "[encoded data removed]",
      "text/plain": [
       "<Figure size 432x288 with 1 Axes>"
      ]
     },
     "metadata": {
      "needs_background": "light"
     },
     "output_type": "display_data"
    },
    {
     "data": {
      "image/png": "[encoded data removed]",
      "text/plain": [
       "<Figure size 432x288 with 1 Axes>"
      ]
     },
     "metadata": {
      "needs_background": "light"
     },
     "output_type": "display_data"
    },
    {
     "data": {
      "image/png": "[encoded data removed]",
      "text/plain": [
       "<Figure size 432x288 with 1 Axes>"
      ]
     },
     "metadata": {
      "needs_background": "light"
     },
     "output_type": "display_data"
    },
    {
     "data": {
      "image/png": "[encoded data removed]",
      "text/plain": [
       "<Figure size 432x288 with 1 Axes>"
      ]
     },
     "metadata": {
      "needs_background": "light"
     },
     "output_type": "display_data"
    },
    {
     "data": {
      "image/png": "[encoded data removed]",
      "text/plain": [
       "<Figure size 432x288 with 1 Axes>"
      ]
     },
     "metadata": {
      "needs_background": "light"
     },
     "output_type": "display_data"
    }
   ],
   "source": [
    "col= df.columns.tolist()[:-1]\n",
    "for i in range(0 , len(col)) :\n",
    "    ax = df.boxplot(column= col[i], by='Heart_attack')\n",
    "    ax.set_ylabel(col[i])\n",
    "    plt.suptitle('') # Suppress the titles\n",
    "    plt.title('')"
   ]
  },
  {
   "cell_type": "raw",
   "id": "editorial-characterization",
   "metadata": {},
   "source": [
    "Nhận thấy có sự phân loại rõ rệt giữa giới tính Nam và Nữ, em sẽ xem liệu giới tính có ảnh hưởng gì đến khả năng bị bệnh tim mệch hay không:"
   ]
  },
  {
   "cell_type": "code",
   "execution_count": 77,
   "id": "tutorial-family",
   "metadata": {},
   "outputs": [
    {
     "name": "stdout",
     "output_type": "stream",
     "text": [
      "1    206\n",
      "0     96\n",
      "Name: Sex, dtype: int64\n"
     ]
    },
    {
     "data": {
      "image/png": "[encoded data removed]",
      "text/plain": [
       "<Figure size 576x432 with 1 Axes>"
      ]
     },
     "metadata": {},
     "output_type": "display_data"
    }
   ],
   "source": [
    "#First look at the number of Males and Females in the data\n",
    "print(df.Sex.value_counts())\n",
    "df.Sex.value_counts().plot(kind = 'pie', figsize = (8, 6))\n",
    "plt.title('Male Female ratio')\n",
    "plt.legend(['Male', 'Female']);"
   ]
  },
  {
   "cell_type": "code",
   "execution_count": 78,
   "id": "fitted-external",
   "metadata": {},
   "outputs": [
    {
     "data": {
      "image/png": "[encoded data removed]",
      "text/plain": [
       "<Figure size 432x288 with 1 Axes>"
      ]
     },
     "metadata": {
      "needs_background": "light"
     },
     "output_type": "display_data"
    }
   ],
   "source": [
    "#Check if the number of heart diseases compared to gender:\n",
    "sns.countplot(x = 'Heart_attack', data = df, hue = 'Sex')\n",
    "plt.title(\"Heart Disease Frequency for Sex\")\n",
    "plt.xlabel(\"0 = No heart Disease, 1 = Heart Disease\");"
   ]
  },
  {
   "cell_type": "code",
   "execution_count": 79,
   "id": "amazing-consultancy",
   "metadata": {},
   "outputs": [
    {
     "data": {
      "image/png": "[encoded data removed]",
      "text/plain": [
       "<Figure size 432x288 with 1 Axes>"
      ]
     },
     "metadata": {
      "needs_background": "light"
     },
     "output_type": "display_data"
    }
   ],
   "source": [
    "#Check to see if the type of chest pain is influenced by gender:\n",
    "pd.crosstab(df.Sex, df.Chest_pain).plot(kind = 'bar', color = ['coral', 'lightskyblue', 'plum', 'khaki'])\n",
    "plt.title('Type of chest pain for Sex')\n",
    "plt.xlabel('0 = Female,    1 = Male');"
   ]
  },
  {
   "cell_type": "code",
   "execution_count": 80,
   "id": "impaired-tract",
   "metadata": {},
   "outputs": [
    {
     "data": {
      "image/png": "[encoded data removed]",
      "text/plain": [
       "<Figure size 432x288 with 1 Axes>"
      ]
     },
     "metadata": {
      "needs_background": "light"
     },
     "output_type": "display_data"
    }
   ],
   "source": [
    "#Exercise causes angina in men and women:\n",
    "sns.countplot(x = 'Exercise_induced_angina', data = df, hue = 'Sex')\n",
    "plt.title('Exercise induced angina for Sex')\n",
    "plt.xlabel('exercise induced angina');"
   ]
  },
  {
   "cell_type": "code",
   "execution_count": 81,
   "id": "charged-british",
   "metadata": {},
   "outputs": [
    {
     "data": {
      "image/png": "[encoded data removed]",
      "text/plain": [
       "<Figure size 432x288 with 1 Axes>"
      ]
     },
     "metadata": {
      "needs_background": "light"
     },
     "output_type": "display_data"
    }
   ],
   "source": [
    "#Blood sugar index between men and women\n",
    "pd.crosstab(df.Sex, df.Fasting_blood_sugar).plot(kind = 'bar', color = ['lightblue', 'salmon'])\n",
    "plt.title(\"Fasting blood sugar w.r.t Sex\")\n",
    "plt.xlabel(\"0 = Female,   1 = Male\")\n",
    "plt.ylabel(\"Count\");"
   ]
  },
  {
   "cell_type": "raw",
   "id": "former-simon",
   "metadata": {},
   "source": [
    "Từ một số biểu đồ chúng ta có thể thấy việc khả năng bị bệnh tim có ảnh hưởng nhiều đến giới tính, có vẻ như nam dễ bị bệnh tim hơn nữ ( Nam vận động nhiều hơn, nhiều áp lực hơn,...)"
   ]
  },
  {
   "cell_type": "code",
   "execution_count": 82,
   "id": "brown-generator",
   "metadata": {
    "execution": {
     "iopub.execute_input": "2021-05-21T22:18:26.783444Z",
     "iopub.status.busy": "2021-05-21T22:18:26.783215Z",
     "iopub.status.idle": "2021-05-21T22:18:26.802596Z",
     "shell.execute_reply": "2021-05-21T22:18:26.801868Z",
     "shell.execute_reply.started": "2021-05-21T22:18:26.783421Z"
    }
   },
   "outputs": [
    {
     "data": {
      "text/html": [
       "<div>\n",
       "<style scoped>\n",
       "    .dataframe tbody tr th:only-of-type {\n",
       "        vertical-align: middle;\n",
       "    }\n",
       "\n",
       "    .dataframe tbody tr th {\n",
       "        vertical-align: top;\n",
       "    }\n",
       "\n",
       "    .dataframe thead th {\n",
       "        text-align: right;\n",
       "    }\n",
       "</style>\n",
       "<table border=\"1\" class=\"dataframe\">\n",
       "  <thead>\n",
       "    <tr style=\"text-align: right;\">\n",
       "      <th></th>\n",
       "      <th>Age</th>\n",
       "      <th>Sex</th>\n",
       "      <th>Chest_pain</th>\n",
       "      <th>Resting_blood_pressure</th>\n",
       "      <th>Cholesterol</th>\n",
       "      <th>Fasting_blood_sugar</th>\n",
       "      <th>ECG_results</th>\n",
       "      <th>Maximum_heart_rate</th>\n",
       "      <th>Exercise_induced_angina</th>\n",
       "      <th>ST_depression</th>\n",
       "      <th>ST_slope</th>\n",
       "      <th>Major_vessels</th>\n",
       "      <th>Thalassemia_types</th>\n",
       "      <th>Heart_attack</th>\n",
       "    </tr>\n",
       "  </thead>\n",
       "  <tbody>\n",
       "    <tr>\n",
       "      <th>0</th>\n",
       "      <td>47</td>\n",
       "      <td>1</td>\n",
       "      <td>2</td>\n",
       "      <td>138</td>\n",
       "      <td>257</td>\n",
       "      <td>0</td>\n",
       "      <td>0</td>\n",
       "      <td>156</td>\n",
       "      <td>0</td>\n",
       "      <td>0.0</td>\n",
       "      <td>2</td>\n",
       "      <td>0</td>\n",
       "      <td>2</td>\n",
       "      <td>1</td>\n",
       "    </tr>\n",
       "    <tr>\n",
       "      <th>1</th>\n",
       "      <td>54</td>\n",
       "      <td>1</td>\n",
       "      <td>1</td>\n",
       "      <td>108</td>\n",
       "      <td>309</td>\n",
       "      <td>0</td>\n",
       "      <td>1</td>\n",
       "      <td>156</td>\n",
       "      <td>0</td>\n",
       "      <td>0.0</td>\n",
       "      <td>2</td>\n",
       "      <td>0</td>\n",
       "      <td>3</td>\n",
       "      <td>1</td>\n",
       "    </tr>\n",
       "    <tr>\n",
       "      <th>2</th>\n",
       "      <td>64</td>\n",
       "      <td>1</td>\n",
       "      <td>3</td>\n",
       "      <td>110</td>\n",
       "      <td>211</td>\n",
       "      <td>0</td>\n",
       "      <td>0</td>\n",
       "      <td>144</td>\n",
       "      <td>1</td>\n",
       "      <td>1.8</td>\n",
       "      <td>1</td>\n",
       "      <td>0</td>\n",
       "      <td>2</td>\n",
       "      <td>1</td>\n",
       "    </tr>\n",
       "    <tr>\n",
       "      <th>3</th>\n",
       "      <td>59</td>\n",
       "      <td>1</td>\n",
       "      <td>2</td>\n",
       "      <td>150</td>\n",
       "      <td>212</td>\n",
       "      <td>1</td>\n",
       "      <td>1</td>\n",
       "      <td>157</td>\n",
       "      <td>0</td>\n",
       "      <td>1.6</td>\n",
       "      <td>2</td>\n",
       "      <td>0</td>\n",
       "      <td>2</td>\n",
       "      <td>1</td>\n",
       "    </tr>\n",
       "    <tr>\n",
       "      <th>4</th>\n",
       "      <td>67</td>\n",
       "      <td>1</td>\n",
       "      <td>0</td>\n",
       "      <td>100</td>\n",
       "      <td>299</td>\n",
       "      <td>0</td>\n",
       "      <td>0</td>\n",
       "      <td>125</td>\n",
       "      <td>1</td>\n",
       "      <td>0.9</td>\n",
       "      <td>1</td>\n",
       "      <td>2</td>\n",
       "      <td>2</td>\n",
       "      <td>0</td>\n",
       "    </tr>\n",
       "  </tbody>\n",
       "</table>\n",
       "</div>"
      ],
      "text/plain": [
       "   Age  Sex  Chest_pain  Resting_blood_pressure  Cholesterol  \\\n",
       "0   47    1           2                     138          257   \n",
       "1   54    1           1                     108          309   \n",
       "2   64    1           3                     110          211   \n",
       "3   59    1           2                     150          212   \n",
       "4   67    1           0                     100          299   \n",
       "\n",
       "   Fasting_blood_sugar  ECG_results  Maximum_heart_rate  \\\n",
       "0                    0            0                 156   \n",
       "1                    0            1                 156   \n",
       "2                    0            0                 144   \n",
       "3                    1            1                 157   \n",
       "4                    0            0                 125   \n",
       "\n",
       "   Exercise_induced_angina  ST_depression  ST_slope  Major_vessels  \\\n",
       "0                        0            0.0         2              0   \n",
       "1                        0            0.0         2              0   \n",
       "2                        1            1.8         1              0   \n",
       "3                        0            1.6         2              0   \n",
       "4                        1            0.9         1              2   \n",
       "\n",
       "   Thalassemia_types  Heart_attack  \n",
       "0                  2             1  \n",
       "1                  3             1  \n",
       "2                  2             1  \n",
       "3                  2             1  \n",
       "4                  2             0  "
      ]
     },
     "execution_count": 82,
     "metadata": {},
     "output_type": "execute_result"
    }
   ],
   "source": [
    "df.head()"
   ]
  },
  {
   "cell_type": "code",
   "execution_count": 83,
   "id": "silver-abraham",
   "metadata": {
    "execution": {
     "iopub.status.busy": "2021-05-21T21:55:02.488121Z",
     "iopub.status.idle": "2021-05-21T21:55:02.488556Z"
    }
   },
   "outputs": [
    {
     "data": {
      "text/plain": [
       "Age                        0\n",
       "Sex                        0\n",
       "Chest_pain                 0\n",
       "Resting_blood_pressure     0\n",
       "Cholesterol                0\n",
       "Fasting_blood_sugar        0\n",
       "ECG_results                0\n",
       "Maximum_heart_rate         0\n",
       "Exercise_induced_angina    0\n",
       "ST_depression              0\n",
       "ST_slope                   0\n",
       "Major_vessels              0\n",
       "Thalassemia_types          0\n",
       "Heart_attack               0\n",
       "dtype: int64"
      ]
     },
     "execution_count": 83,
     "metadata": {},
     "output_type": "execute_result"
    }
   ],
   "source": [
    "df.isnull().sum()"
   ]
  },
  {
   "cell_type": "markdown",
   "id": "public-juice",
   "metadata": {},
   "source": [
    "# Check importan of features"
   ]
  },
  {
   "cell_type": "code",
   "execution_count": 107,
   "id": "crazy-silence",
   "metadata": {},
   "outputs": [],
   "source": [
    "x = df.drop(['Heart_attack'], axis = 1)\n",
    "y = df['Heart_attack']\n",
    "x_train, x_test, y_train, y_test = train_test_split(x,y,test_size = 0.20, random_state = 10)\n",
    "feature_scaler = MinMaxScaler()\n",
    "x_train = feature_scaler.fit_transform(x_train)\n",
    "x_test = feature_scaler.transform(x_test)"
   ]
  },
  {
   "cell_type": "code",
   "execution_count": 108,
   "id": "excess-reaction",
   "metadata": {},
   "outputs": [
    {
     "data": {
      "text/plain": [
       "array([[0.4375    , 1.        , 0.        , 0.47169811, 0.16894977,\n",
       "        0.        , 0.        , 0.41984733, 1.        , 0.14516129,\n",
       "        0.5       , 0.        , 1.        ],\n",
       "       [0.8125    , 1.        , 0.66666667, 0.22641509, 0.34474886,\n",
       "        0.        , 0.5       , 0.61068702, 0.        , 0.16129032,\n",
       "        1.        , 0.25      , 1.        ],\n",
       "       [0.77083333, 0.        , 0.        , 0.79245283, 0.23287671,\n",
       "        1.        , 0.5       , 0.71755725, 1.        , 0.16129032,\n",
       "        0.5       , 0.5       , 1.        ],\n",
       "       [0.52083333, 1.        , 0.66666667, 0.52830189, 0.24200913,\n",
       "        0.        , 0.        , 0.71755725, 0.        , 0.25806452,\n",
       "        1.        , 0.        , 1.        ],\n",
       "       [0.29166667, 0.        , 0.66666667, 0.26415094, 0.19863014,\n",
       "        0.        , 0.5       , 0.71755725, 0.        , 0.03225806,\n",
       "        0.5       , 0.        , 0.66666667],\n",
       "       [0.52083333, 1.        , 0.33333333, 0.13207547, 0.41780822,\n",
       "        0.        , 0.5       , 0.64885496, 0.        , 0.        ,\n",
       "        1.        , 0.        , 1.        ],\n",
       "       [0.75      , 1.        , 0.        , 0.1509434 , 0.27853881,\n",
       "        0.        , 0.        , 0.66412214, 0.        , 0.09677419,\n",
       "        1.        , 0.5       , 0.33333333],\n",
       "       [0.47916667, 1.        , 0.        , 0.32075472, 0.17808219,\n",
       "        1.        , 0.5       , 0.64885496, 1.        , 0.16129032,\n",
       "        0.5       , 0.        , 0.        ],\n",
       "       [0.8125    , 1.        , 0.        , 0.47169811, 0.15296804,\n",
       "        1.        , 0.5       , 0.53435115, 0.        , 0.5483871 ,\n",
       "        0.5       , 0.5       , 1.        ],\n",
       "       [0.20833333, 1.        , 0.        , 0.22641509, 0.21232877,\n",
       "        0.        , 0.5       , 0.52671756, 0.        , 0.19354839,\n",
       "        0.5       , 0.        , 1.        ],\n",
       "       [0.8125    , 0.        , 0.66666667, 0.24528302, 0.19406393,\n",
       "        0.        , 0.        , 0.33587786, 0.        , 0.24193548,\n",
       "        0.5       , 0.        , 0.66666667],\n",
       "       [0.72916667, 1.        , 1.        , 0.71698113, 0.23059361,\n",
       "        0.        , 0.        , 0.64122137, 0.        , 0.09677419,\n",
       "        0.5       , 0.        , 1.        ],\n",
       "       [0.25      , 1.        , 0.        , 0.1509434 , 0.10502283,\n",
       "        0.        , 0.        , 0.66412214, 0.        , 0.        ,\n",
       "        1.        , 0.        , 1.        ],\n",
       "       [0.66666667, 1.        , 0.        , 0.41509434, 0.0913242 ,\n",
       "        0.        , 0.        , 0.41221374, 1.        , 0.58064516,\n",
       "        0.5       , 0.25      , 0.66666667],\n",
       "       [0.64583333, 1.        , 0.        , 0.33962264, 0.1826484 ,\n",
       "        0.        , 0.        , 0.46564885, 1.        , 0.38709677,\n",
       "        0.5       , 0.5       , 1.        ],\n",
       "       [0.79166667, 1.        , 0.66666667, 0.54716981, 0.19634703,\n",
       "        0.        , 0.        , 0.60305344, 0.        , 0.12903226,\n",
       "        0.5       , 0.        , 1.        ],\n",
       "       [0.77083333, 1.        , 0.        , 0.16981132, 0.19634703,\n",
       "        0.        , 0.        , 0.46564885, 1.        , 0.01612903,\n",
       "        1.        , 0.25      , 0.66666667],\n",
       "       [0.27083333, 0.        , 0.        , 0.0754717 , 0.3173516 ,\n",
       "        0.        , 0.        , 0.38931298, 0.        , 0.09677419,\n",
       "        0.5       , 0.        , 0.66666667],\n",
       "       [0.58333333, 0.        , 0.        , 0.32075472, 0.40410959,\n",
       "        0.        , 0.        , 0.67175573, 0.        , 0.        ,\n",
       "        1.        , 0.25      , 0.66666667],\n",
       "       [0.5625    , 1.        , 0.33333333, 0.24528302, 0.25114155,\n",
       "        0.        , 0.5       , 0.81679389, 0.        , 0.12903226,\n",
       "        1.        , 0.        , 0.66666667],\n",
       "       [0.25      , 1.        , 0.33333333, 0.38679245, 0.17579909,\n",
       "        0.        , 0.5       , 0.46564885, 0.        , 0.        ,\n",
       "        0.5       , 0.        , 0.33333333],\n",
       "       [0.35416667, 0.        , 0.66666667, 0.45283019, 0.11643836,\n",
       "        0.        , 0.        , 0.67938931, 1.        , 0.22580645,\n",
       "        0.        , 0.        , 0.66666667],\n",
       "       [0.22916667, 1.        , 0.        , 0.54716981, 0.22146119,\n",
       "        0.        , 0.5       , 0.83969466, 0.        , 0.        ,\n",
       "        1.        , 0.        , 1.        ],\n",
       "       [0.41666667, 1.        , 0.33333333, 0.33962264, 0.3196347 ,\n",
       "        0.        , 0.5       , 0.76335878, 0.        , 0.09677419,\n",
       "        1.        , 0.        , 0.66666667],\n",
       "       [0.52083333, 1.        , 0.        , 0.1509434 , 0.25799087,\n",
       "        0.        , 0.5       , 0.41984733, 1.        , 0.4516129 ,\n",
       "        0.5       , 0.25      , 1.        ],\n",
       "       [0.47916667, 1.        , 0.        , 0.16981132, 0.23744292,\n",
       "        0.        , 0.5       , 0.67938931, 0.        , 0.        ,\n",
       "        1.        , 0.25      , 0.66666667],\n",
       "       [0.58333333, 1.        , 0.        , 0.43396226, 0.15068493,\n",
       "        0.        , 0.5       , 0.58778626, 0.        , 0.06451613,\n",
       "        0.5       , 0.        , 0.33333333],\n",
       "       [0.58333333, 1.        , 0.        , 0.35849057, 0.18493151,\n",
       "        0.        , 0.5       , 0.74045802, 1.        , 0.        ,\n",
       "        1.        , 0.        , 1.        ],\n",
       "       [0.54166667, 1.        , 0.        , 0.62264151, 0.37214612,\n",
       "        0.        , 0.        , 0.5648855 , 1.        , 0.12903226,\n",
       "        0.5       , 0.25      , 1.        ],\n",
       "       [0.70833333, 0.        , 0.        , 0.52830189, 0.64155251,\n",
       "        0.        , 0.        , 0.63358779, 0.        , 0.64516129,\n",
       "        0.5       , 0.75      , 1.        ],\n",
       "       [0.3125    , 1.        , 0.        , 0.16981132, 0.37442922,\n",
       "        0.        , 0.        , 0.6259542 , 0.        , 0.        ,\n",
       "        1.        , 0.25      , 0.66666667],\n",
       "       [0.54166667, 1.        , 0.        , 0.35849057, 0.51826484,\n",
       "        0.        , 0.5       , 0.46564885, 1.        , 0.19354839,\n",
       "        0.5       , 0.25      , 1.        ],\n",
       "       [0.27083333, 1.        , 0.        , 0.39622642, 0.43150685,\n",
       "        0.        , 0.5       , 0.41221374, 1.        , 0.29032258,\n",
       "        0.5       , 0.        , 0.33333333],\n",
       "       [0.27083333, 1.        , 0.        , 0.43396226, 0.2283105 ,\n",
       "        0.        , 0.5       , 0.81679389, 0.        , 0.        ,\n",
       "        1.        , 0.        , 0.66666667],\n",
       "       [0.45833333, 1.        , 0.66666667, 0.05660377, 0.21917808,\n",
       "        0.        , 0.5       , 0.54961832, 1.        , 0.19354839,\n",
       "        0.5       , 0.        , 0.66666667],\n",
       "       [0.125     , 1.        , 0.        , 0.24528302, 0.16438356,\n",
       "        0.        , 0.5       , 0.45038168, 1.        , 0.25806452,\n",
       "        0.5       , 0.        , 1.        ],\n",
       "       [0.58333333, 1.        , 0.66666667, 0.52830189, 0.09589041,\n",
       "        0.        , 0.5       , 0.78625954, 0.        , 0.25806452,\n",
       "        1.        , 0.        , 0.66666667],\n",
       "       [0.64583333, 0.        , 0.66666667, 0.24528302, 0.11872146,\n",
       "        1.        , 0.5       , 0.19083969, 0.        , 0.        ,\n",
       "        1.        , 0.        , 0.66666667],\n",
       "       [0.60416667, 1.        , 0.        , 0.29245283, 0.39726027,\n",
       "        0.        , 0.        , 0.76335878, 0.        , 0.        ,\n",
       "        1.        , 0.5       , 1.        ],\n",
       "       [0.625     , 1.        , 0.        , 0.38679245, 0.24657534,\n",
       "        0.        , 0.5       , 0.6870229 , 0.        , 0.08064516,\n",
       "        0.5       , 0.        , 1.        ],\n",
       "       [0.33333333, 1.        , 0.33333333, 0.32075472, 0.41552511,\n",
       "        0.        , 0.        , 0.75572519, 0.        , 0.        ,\n",
       "        1.        , 0.        , 0.66666667],\n",
       "       [0.47916667, 1.        , 0.        , 0.32075472, 0.29452055,\n",
       "        0.        , 0.5       , 0.6870229 , 1.        , 0.        ,\n",
       "        1.        , 0.25      , 1.        ],\n",
       "       [0.75      , 0.        , 0.66666667, 0.5754717 , 0.32648402,\n",
       "        0.        , 0.5       , 0.58778626, 0.        , 0.12903226,\n",
       "        1.        , 0.        , 0.66666667],\n",
       "       [0.66666667, 1.        , 0.        , 0.24528302, 0.30593607,\n",
       "        0.        , 0.5       , 0.52671756, 1.        , 0.58064516,\n",
       "        0.5       , 0.25      , 1.        ],\n",
       "       [0.77083333, 1.        , 0.33333333, 0.62264151, 0.2739726 ,\n",
       "        0.        , 0.5       , 0.3740458 , 1.        , 0.        ,\n",
       "        0.5       , 0.75      , 0.33333333],\n",
       "       [0.625     , 1.        , 0.        , 0.1509434 , 0.25799087,\n",
       "        0.        , 0.        , 0.54198473, 1.        , 0.19354839,\n",
       "        0.5       , 0.25      , 1.        ],\n",
       "       [0.625     , 1.        , 1.        , 0.62264151, 0.33561644,\n",
       "        0.        , 0.        , 0.41221374, 0.        , 0.        ,\n",
       "        1.        , 0.        , 0.66666667],\n",
       "       [0.66666667, 1.        , 0.        , 0.50943396, 0.17579909,\n",
       "        0.        , 0.5       , 0.6870229 , 0.        , 0.        ,\n",
       "        1.        , 0.25      , 1.        ],\n",
       "       [0.77083333, 0.        , 1.        , 0.52830189, 0.2283105 ,\n",
       "        0.        , 0.5       , 0.32824427, 0.        , 0.41935484,\n",
       "        0.        , 0.        , 0.66666667],\n",
       "       [0.3125    , 1.        , 0.66666667, 0.43396226, 0.24885845,\n",
       "        0.        , 0.        , 0.83206107, 0.        , 0.        ,\n",
       "        1.        , 0.        , 0.66666667],\n",
       "       [0.64583333, 1.        , 0.        , 0.33962264, 0.28995434,\n",
       "        0.        , 0.5       , 0.55725191, 1.        , 0.22580645,\n",
       "        1.        , 0.25      , 1.        ],\n",
       "       [0.29166667, 1.        , 0.        , 0.24528302, 0.11643836,\n",
       "        0.        , 0.        , 0.3740458 , 1.        , 0.40322581,\n",
       "        0.5       , 0.        , 1.        ],\n",
       "       [0.6875    , 1.        , 0.33333333, 0.32075472, 0.18721461,\n",
       "        1.        , 0.        , 0.52671756, 0.        , 0.        ,\n",
       "        1.        , 0.        , 0.66666667],\n",
       "       [0.52083333, 1.        , 0.        , 0.43396226, 0.25799087,\n",
       "        0.        , 0.5       , 0.67938931, 0.        , 0.19354839,\n",
       "        1.        , 0.        , 0.66666667],\n",
       "       [0.52083333, 1.        , 0.66666667, 0.29245283, 0.33561644,\n",
       "        0.        , 0.        , 0.61832061, 0.        , 0.08064516,\n",
       "        0.        , 0.25      , 0.66666667],\n",
       "       [0.60416667, 1.        , 0.        , 0.52830189, 0.32876712,\n",
       "        0.        , 0.        , 0.30534351, 1.        , 0.12903226,\n",
       "        1.        , 0.        , 1.        ],\n",
       "       [0.79166667, 1.        , 0.        , 0.29245283, 0.29223744,\n",
       "        1.        , 0.5       , 0.70229008, 0.        , 0.03225806,\n",
       "        0.5       , 0.5       , 1.        ],\n",
       "       [0.6875    , 0.        , 0.        , 0.52830189, 0.26940639,\n",
       "        0.        , 0.5       , 0.63358779, 1.        , 0.22580645,\n",
       "        0.5       , 0.        , 0.66666667],\n",
       "       [0.58333333, 1.        , 0.        , 0.66981132, 0.37214612,\n",
       "        1.        , 0.        , 0.40458015, 0.        , 0.16129032,\n",
       "        0.5       , 0.75      , 1.        ],\n",
       "       [0.4375    , 0.        , 0.        , 0.1509434 , 0.29223744,\n",
       "        0.        , 0.        , 0.67175573, 0.        , 0.        ,\n",
       "        1.        , 0.        , 0.66666667],\n",
       "       [0.54166667, 0.        , 0.        , 0.32075472, 0.1803653 ,\n",
       "        0.        , 1.        , 0.45038168, 1.        , 0.32258065,\n",
       "        0.5       , 0.25      , 1.        ]])"
      ]
     },
     "execution_count": 108,
     "metadata": {},
     "output_type": "execute_result"
    }
   ],
   "source": [
    "x_test"
   ]
  },
  {
   "cell_type": "code",
   "execution_count": 85,
   "id": "local-draft",
   "metadata": {},
   "outputs": [
    {
     "data": {
      "text/plain": [
       "RandomForestRegressor()"
      ]
     },
     "execution_count": 85,
     "metadata": {},
     "output_type": "execute_result"
    }
   ],
   "source": [
    "reg = RandomForestRegressor()\n",
    "reg.fit(x, y)"
   ]
  },
  {
   "cell_type": "code",
   "execution_count": 86,
   "id": "employed-equivalent",
   "metadata": {},
   "outputs": [
    {
     "data": {
      "image/png": "[encoded data removed]",
      "text/plain": [
       "<Figure size 432x288 with 1 Axes>"
      ]
     },
     "metadata": {
      "needs_background": "light"
     },
     "output_type": "display_data"
    }
   ],
   "source": [
    "col= df.columns.tolist()[:-1]\n",
    "df_feature_importance = pd.DataFrame(reg.feature_importances_, index=col, columns=['feature importance']).sort_values('feature importance', ascending=False)\n",
    "df_feature_importance.plot(kind='bar');"
   ]
  },
  {
   "cell_type": "code",
   "execution_count": 87,
   "id": "conceptual-personality",
   "metadata": {},
   "outputs": [
    {
     "name": "stdout",
     "output_type": "stream",
     "text": [
      "Accuracy: 85.25%\n",
      "Thresh=0.011, n=13, Accuracy: 81.97%\n",
      "Thresh=0.023, n=12, Accuracy: 83.61%\n",
      "Thresh=0.029, n=11, Accuracy: 81.97%\n",
      "Thresh=0.054, n=10, Accuracy: 78.69%\n",
      "Thresh=0.064, n=9, Accuracy: 77.05%\n",
      "Thresh=0.070, n=8, Accuracy: 77.05%\n",
      "Thresh=0.086, n=7, Accuracy: 81.97%\n",
      "Thresh=0.087, n=6, Accuracy: 75.41%\n",
      "Thresh=0.089, n=5, Accuracy: 72.13%\n",
      "Thresh=0.090, n=4, Accuracy: 80.33%\n",
      "Thresh=0.107, n=3, Accuracy: 67.21%\n",
      "Thresh=0.142, n=2, Accuracy: 65.57%\n",
      "Thresh=0.148, n=1, Accuracy: 54.10%\n"
     ]
    }
   ],
   "source": [
    "from sklearn.feature_selection import SelectFromModel\n",
    "from numpy import sort\n",
    "\n",
    "X_train, X_test, y_train, y_test = train_test_split(x, y, test_size=0.2,  random_state=10)\n",
    "\n",
    "# fit model on all training data\n",
    "RF = RandomForestClassifier()\n",
    "RF.fit(X_train, y_train)\n",
    "# make predictions for test data and evaluate\n",
    "y_pred = RF.predict(X_test)\n",
    "predictions = [round(value) for value in y_pred]\n",
    "accuracy = accuracy_score(y_test, predictions)\n",
    "print(\"Accuracy: %.2f%%\" % (accuracy * 100.0))\n",
    "# Fit model using each importance as a threshold\n",
    "thresholds = sort(RF.feature_importances_)\n",
    "for thresh in thresholds:\n",
    "    # select features using threshold\n",
    "    selection = SelectFromModel(RF, threshold=thresh, prefit=True)\n",
    "    select_X_train = selection.transform(X_train)\n",
    "    # train model\n",
    "    selection_model = RandomForestClassifier(n_estimators=50)\n",
    "    selection_model.fit(select_X_train, y_train)\n",
    "    # eval model\n",
    "    select_X_test = selection.transform(X_test)\n",
    "    y_pred = selection_model.predict(select_X_test)\n",
    "    predictions = [round(value) for value in y_pred]\n",
    "    accuracy = accuracy_score(y_test, predictions)\n",
    "    print(\"Thresh=%.3f, n=%d, Accuracy: %.2f%%\" % (thresh, select_X_train.shape[1], accuracy*100.0))"
   ]
  },
  {
   "cell_type": "markdown",
   "id": "positive-arctic",
   "metadata": {},
   "source": [
    "Boxplot, importan => delete \"Fasting_blood_sugar\""
   ]
  },
  {
   "cell_type": "markdown",
   "id": "dominican-teddy",
   "metadata": {},
   "source": [
    "# Split data "
   ]
  },
  {
   "cell_type": "code",
   "execution_count": 120,
   "id": "recovered-barbados",
   "metadata": {},
   "outputs": [],
   "source": [
    "x = df.drop(['Heart_attack', 'Fasting_blood_sugar'], axis = 1)\n",
    "y = df['Heart_attack']\n",
    "x_train, x_test, y_train, y_test = train_test_split(x,y,test_size = 0.2, random_state = 10)\n",
    "feature_scaler = MinMaxScaler()\n",
    "x_train = feature_scaler.fit_transform(x_train)\n",
    "x_test = feature_scaler.transform(x_test)"
   ]
  },
  {
   "cell_type": "code",
   "execution_count": 122,
   "id": "different-emerald",
   "metadata": {},
   "outputs": [
    {
     "data": {
      "text/plain": [
       "12"
      ]
     },
     "execution_count": 122,
     "metadata": {},
     "output_type": "execute_result"
    }
   ],
   "source": [
    "len(x_train[0])"
   ]
  },
  {
   "cell_type": "markdown",
   "id": "detected-minnesota",
   "metadata": {},
   "source": [
    "# Check the suitability of the algorithms to the data"
   ]
  },
  {
   "cell_type": "code",
   "execution_count": 22,
   "id": "fantastic-people",
   "metadata": {},
   "outputs": [
    {
     "name": "stdout",
     "output_type": "stream",
     "text": [
      ">Logistic 0.840 (0.058)\n",
      ">DTree 0.772 (0.071)\n",
      ">RandomForest 0.820 (0.054)\n",
      ">KNN 0.641 (0.098)\n",
      ">SVC 0.709 (0.123)\n"
     ]
    },
    {
     "data": {
      "image/png": "[encoded data removed]",
      "text/plain": [
       "<Figure size 432x288 with 1 Axes>"
      ]
     },
     "metadata": {
      "needs_background": "light"
     },
     "output_type": "display_data"
    }
   ],
   "source": [
    "# evaluate a model\n",
    "def evaluate_model(X, y, model):\n",
    "    # define evaluation procedure\n",
    "    cv = RepeatedStratifiedKFold(n_splits=10, n_repeats=3, random_state=1)\n",
    "    # evaluate model\n",
    "    scores = cross_val_score(model, x, y, scoring='accuracy', cv=cv, n_jobs=-1)\n",
    "    return scores\n",
    "def get_models():\n",
    "    models, names = list(), list()\n",
    "    # LogisticRegression\n",
    "    models.append(LogisticRegression())\n",
    "    names.append('Logistic')\n",
    "    # DecisionTreeClassifier\n",
    "    models.append(DecisionTreeClassifier())\n",
    "    names.append('DTree')\n",
    "    # RF\n",
    "    models.append(RandomForestClassifier())\n",
    "    names.append('RandomForest')\n",
    "    # KNeighborsClassifier\n",
    "    models.append(KNeighborsClassifier())\n",
    "    names.append('KNN')\n",
    "    # LinearSVC\n",
    "    models.append(LinearSVC())\n",
    "    names.append('SVC')              \n",
    "    return models, names\n",
    "# define models\n",
    "models, names = get_models()\n",
    "results = list()\n",
    "# evaluate each model\n",
    "for i in range(len(models)):\n",
    "    #evaluate the model and store results\n",
    "    scores = evaluate_model(x, y, models[i])\n",
    "    results.append(scores)\n",
    "    # summarize performance\n",
    "    print('>%s %.3f (%.3f)' % (names[i], mean(scores), std(scores)))\n",
    "# plot the results\n",
    "plt.boxplot(results, labels=names, showmeans=True)\n",
    "plt.show()"
   ]
  },
  {
   "cell_type": "markdown",
   "id": "distinct-maintenance",
   "metadata": {},
   "source": [
    "# Lựa chọn thuật toán"
   ]
  },
  {
   "cell_type": "raw",
   "id": "settled-pennsylvania",
   "metadata": {},
   "source": [
    "Select Recall as the model's standard."
   ]
  },
  {
   "cell_type": "code",
   "execution_count": 23,
   "id": "together-western",
   "metadata": {},
   "outputs": [],
   "source": [
    "accuracy_train = []\n",
    "accuracy_test = []\n",
    "recall_model = []"
   ]
  },
  {
   "cell_type": "markdown",
   "id": "invalid-generation",
   "metadata": {},
   "source": [
    "# Tuning thuật toán Logistic Regression"
   ]
  },
  {
   "cell_type": "code",
   "execution_count": 24,
   "id": "animated-coaching",
   "metadata": {},
   "outputs": [
    {
     "name": "stdout",
     "output_type": "stream",
     "text": [
      "Best: 0.842556 using {'C': 10, 'penalty': 'l2', 'solver': 'newton-cg'}\n",
      "0.838333 (0.077388) with: {'C': 100, 'penalty': 'l2', 'solver': 'newton-cg'}\n",
      "0.838333 (0.077388) with: {'C': 100, 'penalty': 'l2', 'solver': 'lbfgs'}\n",
      "0.838333 (0.077388) with: {'C': 100, 'penalty': 'l2', 'solver': 'liblinear'}\n",
      "0.838389 (0.076428) with: {'C': 30, 'penalty': 'l2', 'solver': 'newton-cg'}\n",
      "0.838389 (0.076428) with: {'C': 30, 'penalty': 'l2', 'solver': 'lbfgs'}\n",
      "0.842500 (0.077380) with: {'C': 30, 'penalty': 'l2', 'solver': 'liblinear'}\n",
      "0.841167 (0.078439) with: {'C': 20, 'penalty': 'l2', 'solver': 'newton-cg'}\n",
      "0.841167 (0.078439) with: {'C': 20, 'penalty': 'l2', 'solver': 'lbfgs'}\n",
      "0.841167 (0.074659) with: {'C': 20, 'penalty': 'l2', 'solver': 'liblinear'}\n",
      "0.842556 (0.075656) with: {'C': 10, 'penalty': 'l2', 'solver': 'newton-cg'}\n",
      "0.842556 (0.075656) with: {'C': 10, 'penalty': 'l2', 'solver': 'lbfgs'}\n",
      "0.841167 (0.076193) with: {'C': 10, 'penalty': 'l2', 'solver': 'liblinear'}\n",
      "0.832889 (0.081463) with: {'C': 1.0, 'penalty': 'l2', 'solver': 'newton-cg'}\n",
      "0.832889 (0.081463) with: {'C': 1.0, 'penalty': 'l2', 'solver': 'lbfgs'}\n",
      "0.828722 (0.082394) with: {'C': 1.0, 'penalty': 'l2', 'solver': 'liblinear'}\n",
      "0.809333 (0.082349) with: {'C': 0.1, 'penalty': 'l2', 'solver': 'newton-cg'}\n",
      "0.809333 (0.082349) with: {'C': 0.1, 'penalty': 'l2', 'solver': 'lbfgs'}\n",
      "0.816222 (0.078239) with: {'C': 0.1, 'penalty': 'l2', 'solver': 'liblinear'}\n",
      "0.665444 (0.063352) with: {'C': 0.01, 'penalty': 'l2', 'solver': 'newton-cg'}\n",
      "0.665444 (0.063352) with: {'C': 0.01, 'penalty': 'l2', 'solver': 'lbfgs'}\n",
      "0.737500 (0.080060) with: {'C': 0.01, 'penalty': 'l2', 'solver': 'liblinear'}\n"
     ]
    }
   ],
   "source": [
    "model = LogisticRegression()\n",
    "solvers = ['newton-cg', 'lbfgs', 'liblinear']\n",
    "c_values = [100, 30, 20, 10, 1.0, 0.1, 0.01]\n",
    "penalty = ['l2']\n",
    "# define grid search\n",
    "grid = dict(solver=solvers,penalty=penalty,C=c_values)\n",
    "cv = RepeatedStratifiedKFold(n_splits=10, n_repeats=3, random_state=1)\n",
    "grid_search = GridSearchCV(estimator=model, param_grid=grid, cv=cv, scoring='accuracy')\n",
    "grid_result = grid_search.fit(x_train, y_train)\n",
    "# summarize results\n",
    "print(\"Best: %f using %s\" % (grid_result.best_score_, grid_result.best_params_))\n",
    "means = grid_result.cv_results_['mean_test_score']\n",
    "stds = grid_result.cv_results_['std_test_score']\n",
    "params = grid_result.cv_results_['params']\n",
    "for mean, stdev, param in zip(means, stds, params):\n",
    "    print(\"%f (%f) with: %r\" % (mean, stdev, param))"
   ]
  },
  {
   "cell_type": "code",
   "execution_count": 25,
   "id": "decimal-exhibit",
   "metadata": {},
   "outputs": [
    {
     "name": "stdout",
     "output_type": "stream",
     "text": [
      "Logistic Regression Accuracy --> 81.9672131147541\n",
      "0.8888888888888888\n"
     ]
    }
   ],
   "source": [
    "model1 = LogisticRegression(C = 10  , solver = 'newton-cg', penalty = 'l2')\n",
    "model1.fit(x_train,y_train)\n",
    "accuracy_train1 = model1.score(x_train,y_train)\n",
    "accuracy_train.append(accuracy_train1)\n",
    "accuracy_test1 = model1.score(x_test,y_test)\n",
    "accuracy_test.append(accuracy_test1)\n",
    "y_pred = model1.predict(x_test)\n",
    "recall1 = recall_score(y_test,y_pred)\n",
    "recall_model.append(recall1)\n",
    "print('Logistic Regression Accuracy -->',((accuracy_test1)*100))\n",
    "print(recall1)"
   ]
  },
  {
   "cell_type": "markdown",
   "id": "virtual-hotel",
   "metadata": {},
   "source": [
    "# # Decision Trees"
   ]
  },
  {
   "cell_type": "code",
   "execution_count": 26,
   "id": "useful-movie",
   "metadata": {},
   "outputs": [
    {
     "name": "stdout",
     "output_type": "stream",
     "text": [
      "Best: 0.738444 using {'criterion': 'entropy', 'splitter': 'random'}\n",
      "0.727500 (0.111634) with: {'criterion': 'gini', 'splitter': 'best'}\n",
      "0.730333 (0.103981) with: {'criterion': 'gini', 'splitter': 'random'}\n",
      "0.717667 (0.106360) with: {'criterion': 'entropy', 'splitter': 'best'}\n",
      "0.738444 (0.086485) with: {'criterion': 'entropy', 'splitter': 'random'}\n"
     ]
    }
   ],
   "source": [
    "model = DecisionTreeClassifier()\n",
    "criterions = ['gini','entropy']\n",
    "splitters = ['best','random']\n",
    "# define grid search\n",
    "grid = dict(criterion=criterions,splitter=splitters)\n",
    "cv = RepeatedStratifiedKFold(n_splits=10, n_repeats=3, random_state=1)\n",
    "grid_search = GridSearchCV(estimator=model, param_grid=grid, cv=cv, scoring='accuracy')\n",
    "grid_result = grid_search.fit(x_train, y_train)\n",
    "# summarize results\n",
    "print(\"Best: %f using %s\" % (grid_result.best_score_, grid_result.best_params_))\n",
    "means = grid_result.cv_results_['mean_test_score']\n",
    "stds = grid_result.cv_results_['std_test_score']\n",
    "params = grid_result.cv_results_['params']\n",
    "for mean, stdev, param in zip(means, stds, params):\n",
    "    print(\"%f (%f) with: %r\" % (mean, stdev, param))"
   ]
  },
  {
   "cell_type": "code",
   "execution_count": 88,
   "id": "skilled-hierarchy",
   "metadata": {},
   "outputs": [
    {
     "name": "stdout",
     "output_type": "stream",
     "text": [
      "Decision Tree Accuracy --> 75.40983606557377\n",
      "0.7407407407407407\n"
     ]
    }
   ],
   "source": [
    "model2 = DecisionTreeClassifier(criterion = 'entropy',splitter = 'random' )\n",
    "model2.fit(x_train,y_train)\n",
    "accuracy_train2 = model2.score(x_train,y_train)\n",
    "accuracy_train.append(accuracy_train2)\n",
    "accuracy_test2 = model2.score(x_test,y_test)\n",
    "accuracy_test.append(accuracy_test2)\n",
    "y_pred = model2.predict(x_test)\n",
    "recall2 = recall_score(y_test,y_pred)\n",
    "recall_model.append(recall2)\n",
    "print('Decision Tree Accuracy -->',((accuracy_test2)*100))\n",
    "print(recall2)"
   ]
  },
  {
   "cell_type": "markdown",
   "id": "minus-excellence",
   "metadata": {},
   "source": [
    "# Support Vector Classification."
   ]
  },
  {
   "cell_type": "code",
   "execution_count": 28,
   "id": "activated-expert",
   "metadata": {},
   "outputs": [
    {
     "name": "stdout",
     "output_type": "stream",
     "text": [
      "Best: 0.845278 using {'C': 5, 'loss': 'squared_hinge', 'penalty': 'l2'}\n"
     ]
    }
   ],
   "source": [
    "model = LinearSVC()\n",
    "penaltys = ['l1','l2']\n",
    "C = [0.01,0.1,1,5,10,15,20]\n",
    "loss = ['hinge','squared_hinge']\n",
    "# define grid search\n",
    "grid = dict(penalty=penaltys,C=C,loss =loss )\n",
    "cv = RepeatedStratifiedKFold(n_splits=10, n_repeats=3, random_state=1)\n",
    "grid_search = GridSearchCV(estimator=model, param_grid=grid, cv=cv, scoring='accuracy')\n",
    "grid_result = grid_search.fit(x_train, y_train)\n",
    "# summarize results\n",
    "print(\"Best: %f using %s\" % (grid_result.best_score_, grid_result.best_params_))\n",
    "# means = grid_result.cv_results_['mean_test_score']\n",
    "# stds = grid_result.cv_results_['std_test_score']\n",
    "# params = grid_result.cv_results_['params']\n",
    "# for mean, stdev, param in zip(means, stds, params):\n",
    "#     print(\"%f (%f) with: %r\" % (mean, stdev, param))"
   ]
  },
  {
   "cell_type": "code",
   "execution_count": 123,
   "id": "worst-graphics",
   "metadata": {},
   "outputs": [
    {
     "name": "stdout",
     "output_type": "stream",
     "text": [
      "SVM Classifier Accuracy --> 83.60655737704919\n"
     ]
    }
   ],
   "source": [
    "model3 = LinearSVC(C = 5,loss = 'squared_hinge',penalty = 'l2')\n",
    "model3.fit(x_train,y_train)\n",
    "accuracy_train3 = model3.score(x_train,y_train)\n",
    "accuracy_train.append(accuracy_train3)\n",
    "accuracy_test3 = model3.score(x_test,y_test)\n",
    "accuracy_test.append(accuracy_test3)\n",
    "y_pred = model3.predict(x_test)\n",
    "recall3 = recall_score(y_test,y_pred)\n",
    "recall_model.append(recall3)\n",
    "print('SVM Classifier Accuracy -->',((accuracy_test3)*100))\n"
   ]
  },
  {
   "cell_type": "code",
   "execution_count": 30,
   "id": "deluxe-ratio",
   "metadata": {},
   "outputs": [
    {
     "name": "stdout",
     "output_type": "stream",
     "text": [
      "0.9629629629629629\n"
     ]
    }
   ],
   "source": [
    "print(recall3)"
   ]
  },
  {
   "cell_type": "markdown",
   "id": "figured-shareware",
   "metadata": {},
   "source": [
    "# # Random Forest Classifier"
   ]
  },
  {
   "cell_type": "code",
   "execution_count": 31,
   "id": "rolled-oklahoma",
   "metadata": {},
   "outputs": [
    {
     "name": "stdout",
     "output_type": "stream",
     "text": [
      "Best: 0.812167 using {'criterion': 'entropy', 'max_features': 'auto', 'n_estimators': 750, 'random_state': 5}\n"
     ]
    }
   ],
   "source": [
    "model = RandomForestClassifier()\n",
    "n_estimators = [250,500,750,1000]\n",
    "criterion = ['gini','entropy']\n",
    "max_features = ['auto','sqrt','log2']\n",
    "random_state = [5]\n",
    "# define grid search\n",
    "grid = dict(n_estimators=n_estimators,criterion=criterion,max_features =max_features,random_state = random_state )\n",
    "cv = RepeatedStratifiedKFold(n_splits=10, n_repeats=3, random_state=1)\n",
    "grid_search = GridSearchCV(estimator=model, param_grid=grid, cv=cv, scoring='accuracy')\n",
    "grid_result = grid_search.fit(x_train, y_train)\n",
    "# summarize results\n",
    "print(\"Best: %f using %s\" % (grid_result.best_score_, grid_result.best_params_))\n",
    "# means = grid_result.cv_results_['mean_test_score']\n",
    "# stds = grid_result.cv_results_['std_test_score']\n",
    "# params = grid_result.cv_results_['params']\n",
    "# for mean, stdev, param in zip(means, stds, params):\n",
    "#     print(\"%f (%f) with: %r\" % (mean, stdev, param))"
   ]
  },
  {
   "cell_type": "code",
   "execution_count": 32,
   "id": "living-grove",
   "metadata": {},
   "outputs": [
    {
     "name": "stdout",
     "output_type": "stream",
     "text": [
      "Random Forest Classifier Accuracy --> 83.60655737704919\n",
      "0.8888888888888888\n"
     ]
    }
   ],
   "source": [
    "model4 = RandomForestClassifier(criterion = 'entropy',max_features = 'auto',n_estimators = 750, random_state = 5)\n",
    "model4.fit(x_train,y_train)\n",
    "accuracy_train4 = model4.score(x_train,y_train)\n",
    "accuracy_train.append(accuracy_train4)\n",
    "accuracy_test4 = model4.score(x_test,y_test)\n",
    "accuracy_test.append(accuracy_test4)\n",
    "y_pred = model4.predict(x_test)\n",
    "recall4 = recall_score(y_test,y_pred)\n",
    "recall_model.append(recall4)\n",
    "print('Random Forest Classifier Accuracy -->',((accuracy_test4)*100))\n",
    "print(recall4)"
   ]
  },
  {
   "cell_type": "markdown",
   "id": "moderate-officer",
   "metadata": {},
   "source": [
    "# # K-Nearest Neighbors"
   ]
  },
  {
   "cell_type": "code",
   "execution_count": 33,
   "id": "enormous-confirmation",
   "metadata": {},
   "outputs": [
    {
     "name": "stdout",
     "output_type": "stream",
     "text": [
      "Best: 0.828778 using {'metric': 'manhattan', 'n_neighbors': 19, 'weights': 'uniform'}\n"
     ]
    }
   ],
   "source": [
    "model = KNeighborsClassifier()\n",
    "n_neighbors = range(1, 21, 2)\n",
    "weights = ['uniform', 'distance']\n",
    "metric = ['euclidean', 'manhattan', 'minkowski']\n",
    "# define grid search\n",
    "grid = dict(n_neighbors=n_neighbors,weights=weights,metric=metric)\n",
    "cv = RepeatedStratifiedKFold(n_splits=10, n_repeats=3, random_state=1)\n",
    "grid_search = GridSearchCV(estimator=model, param_grid=grid, n_jobs=-1, cv=cv, scoring='accuracy',error_score=0)\n",
    "grid_result = grid_search.fit(x_train, y_train)\n",
    "# summarize results\n",
    "print(\"Best: %f using %s\" % (grid_result.best_score_, grid_result.best_params_))\n",
    "# means = grid_result.cv_results_['mean_test_score']\n",
    "# stds = grid_result.cv_results_['std_test_score']\n",
    "# params = grid_result.cv_results_['params']\n",
    "# for mean, stdev, param in zip(means, stds, params):\n",
    "#     print(\"%f (%f) with: %r\" % (mean, stdev, param))\n"
   ]
  },
  {
   "cell_type": "code",
   "execution_count": 34,
   "id": "greater-weekend",
   "metadata": {},
   "outputs": [
    {
     "name": "stdout",
     "output_type": "stream",
     "text": [
      "Gradient Boosting Classifier Accuracy --> 85.24590163934425\n",
      "0.9259259259259259\n"
     ]
    }
   ],
   "source": [
    "model5 = KNeighborsClassifier(metric ='manhattan',  n_neighbors = 19, weights = 'uniform')\n",
    "model5.fit(x_train,y_train)\n",
    "accuracy_train5 = model5.score(x_train,y_train)\n",
    "accuracy_train.append(accuracy_train5)\n",
    "accuracy_test5 = model5.score(x_test,y_test)\n",
    "accuracy_test.append(accuracy_test5)\n",
    "y_pred = model5.predict(x_test)\n",
    "recall5 = recall_score(y_test,y_pred)\n",
    "recall_model.append(recall5)\n",
    "# accuracy.append(accuracy8)\n",
    "print('Gradient Boosting Classifier Accuracy -->',((accuracy_test5)*100))\n",
    "print(recall5)"
   ]
  },
  {
   "cell_type": "code",
   "execution_count": 35,
   "id": "given-clearing",
   "metadata": {},
   "outputs": [],
   "source": [
    "Models = ['Logistic Regression','Decision Tree','SVC','Random Forest Classifier','K-Nearest Neighbors']\n",
    "total_v1 = list(zip(Models,accuracy_train,accuracy_test,recall_model))\n",
    "output_v1 = pd.DataFrame(total_v1, columns = ['Models','Accuracy_train','Accuracy_test','Recall'])"
   ]
  },
  {
   "cell_type": "code",
   "execution_count": 36,
   "id": "together-empty",
   "metadata": {},
   "outputs": [
    {
     "data": {
      "text/html": [
       "<div>\n",
       "<style scoped>\n",
       "    .dataframe tbody tr th:only-of-type {\n",
       "        vertical-align: middle;\n",
       "    }\n",
       "\n",
       "    .dataframe tbody tr th {\n",
       "        vertical-align: top;\n",
       "    }\n",
       "\n",
       "    .dataframe thead th {\n",
       "        text-align: right;\n",
       "    }\n",
       "</style>\n",
       "<table border=\"1\" class=\"dataframe\">\n",
       "  <thead>\n",
       "    <tr style=\"text-align: right;\">\n",
       "      <th></th>\n",
       "      <th>Models</th>\n",
       "      <th>Accuracy_train</th>\n",
       "      <th>Accuracy_test</th>\n",
       "      <th>Recall</th>\n",
       "    </tr>\n",
       "  </thead>\n",
       "  <tbody>\n",
       "    <tr>\n",
       "      <th>0</th>\n",
       "      <td>Logistic Regression</td>\n",
       "      <td>0.863071</td>\n",
       "      <td>0.819672</td>\n",
       "      <td>0.888889</td>\n",
       "    </tr>\n",
       "    <tr>\n",
       "      <th>1</th>\n",
       "      <td>Decision Tree</td>\n",
       "      <td>1.000000</td>\n",
       "      <td>0.721311</td>\n",
       "      <td>0.703704</td>\n",
       "    </tr>\n",
       "    <tr>\n",
       "      <th>2</th>\n",
       "      <td>SVC</td>\n",
       "      <td>0.879668</td>\n",
       "      <td>0.836066</td>\n",
       "      <td>0.962963</td>\n",
       "    </tr>\n",
       "    <tr>\n",
       "      <th>3</th>\n",
       "      <td>Random Forest Classifier</td>\n",
       "      <td>1.000000</td>\n",
       "      <td>0.836066</td>\n",
       "      <td>0.888889</td>\n",
       "    </tr>\n",
       "    <tr>\n",
       "      <th>4</th>\n",
       "      <td>K-Nearest Neighbors</td>\n",
       "      <td>0.838174</td>\n",
       "      <td>0.852459</td>\n",
       "      <td>0.925926</td>\n",
       "    </tr>\n",
       "  </tbody>\n",
       "</table>\n",
       "</div>"
      ],
      "text/plain": [
       "                     Models  Accuracy_train  Accuracy_test    Recall\n",
       "0       Logistic Regression        0.863071       0.819672  0.888889\n",
       "1             Decision Tree        1.000000       0.721311  0.703704\n",
       "2                       SVC        0.879668       0.836066  0.962963\n",
       "3  Random Forest Classifier        1.000000       0.836066  0.888889\n",
       "4       K-Nearest Neighbors        0.838174       0.852459  0.925926"
      ]
     },
     "execution_count": 36,
     "metadata": {},
     "output_type": "execute_result"
    }
   ],
   "source": [
    "output_v1"
   ]
  },
  {
   "cell_type": "code",
   "execution_count": 37,
   "id": "systematic-salon",
   "metadata": {},
   "outputs": [
    {
     "data": {
      "text/html": [
       "<style  type=\"text/css\" >\n",
       "#T_e3854326_c03a_11eb_a66e_d45d64652f2crow0_col1,#T_e3854326_c03a_11eb_a66e_d45d64652f2crow4_col2,#T_e3854326_c03a_11eb_a66e_d45d64652f2crow4_col3{\n",
       "            background-color:  #fff5f0;\n",
       "            color:  #000000;\n",
       "        }#T_e3854326_c03a_11eb_a66e_d45d64652f2crow0_col2,#T_e3854326_c03a_11eb_a66e_d45d64652f2crow1_col1,#T_e3854326_c03a_11eb_a66e_d45d64652f2crow2_col3,#T_e3854326_c03a_11eb_a66e_d45d64652f2crow4_col1{\n",
       "            background-color:  #67000d;\n",
       "            color:  #f1f1f1;\n",
       "        }#T_e3854326_c03a_11eb_a66e_d45d64652f2crow0_col3{\n",
       "            background-color:  #aa1016;\n",
       "            color:  #f1f1f1;\n",
       "        }#T_e3854326_c03a_11eb_a66e_d45d64652f2crow1_col2,#T_e3854326_c03a_11eb_a66e_d45d64652f2crow2_col2{\n",
       "            background-color:  #a30f15;\n",
       "            color:  #f1f1f1;\n",
       "        }#T_e3854326_c03a_11eb_a66e_d45d64652f2crow1_col3,#T_e3854326_c03a_11eb_a66e_d45d64652f2crow3_col3{\n",
       "            background-color:  #d52221;\n",
       "            color:  #f1f1f1;\n",
       "        }#T_e3854326_c03a_11eb_a66e_d45d64652f2crow2_col1{\n",
       "            background-color:  #fcb99f;\n",
       "            color:  #000000;\n",
       "        }#T_e3854326_c03a_11eb_a66e_d45d64652f2crow3_col1{\n",
       "            background-color:  #fed8c7;\n",
       "            color:  #000000;\n",
       "        }#T_e3854326_c03a_11eb_a66e_d45d64652f2crow3_col2{\n",
       "            background-color:  #ca181d;\n",
       "            color:  #f1f1f1;\n",
       "        }</style><table id=\"T_e3854326_c03a_11eb_a66e_d45d64652f2c\" ><thead>    <tr>        <th class=\"blank level0\" ></th>        <th class=\"col_heading level0 col0\" >Models</th>        <th class=\"col_heading level0 col1\" >Accuracy_train</th>        <th class=\"col_heading level0 col2\" >Accuracy_test</th>        <th class=\"col_heading level0 col3\" >Recall</th>    </tr></thead><tbody>\n",
       "                <tr>\n",
       "                        <th id=\"T_e3854326_c03a_11eb_a66e_d45d64652f2clevel0_row0\" class=\"row_heading level0 row0\" >1</th>\n",
       "                        <td id=\"T_e3854326_c03a_11eb_a66e_d45d64652f2crow0_col0\" class=\"data row0 col0\" >K-Nearest Neighbors</td>\n",
       "                        <td id=\"T_e3854326_c03a_11eb_a66e_d45d64652f2crow0_col1\" class=\"data row0 col1\" >0.838174</td>\n",
       "                        <td id=\"T_e3854326_c03a_11eb_a66e_d45d64652f2crow0_col2\" class=\"data row0 col2\" >0.852459</td>\n",
       "                        <td id=\"T_e3854326_c03a_11eb_a66e_d45d64652f2crow0_col3\" class=\"data row0 col3\" >0.925926</td>\n",
       "            </tr>\n",
       "            <tr>\n",
       "                        <th id=\"T_e3854326_c03a_11eb_a66e_d45d64652f2clevel0_row1\" class=\"row_heading level0 row1\" >3</th>\n",
       "                        <td id=\"T_e3854326_c03a_11eb_a66e_d45d64652f2crow1_col0\" class=\"data row1 col0\" >Random Forest Classifier</td>\n",
       "                        <td id=\"T_e3854326_c03a_11eb_a66e_d45d64652f2crow1_col1\" class=\"data row1 col1\" >1.000000</td>\n",
       "                        <td id=\"T_e3854326_c03a_11eb_a66e_d45d64652f2crow1_col2\" class=\"data row1 col2\" >0.836066</td>\n",
       "                        <td id=\"T_e3854326_c03a_11eb_a66e_d45d64652f2crow1_col3\" class=\"data row1 col3\" >0.888889</td>\n",
       "            </tr>\n",
       "            <tr>\n",
       "                        <th id=\"T_e3854326_c03a_11eb_a66e_d45d64652f2clevel0_row2\" class=\"row_heading level0 row2\" >4</th>\n",
       "                        <td id=\"T_e3854326_c03a_11eb_a66e_d45d64652f2crow2_col0\" class=\"data row2 col0\" >SVC</td>\n",
       "                        <td id=\"T_e3854326_c03a_11eb_a66e_d45d64652f2crow2_col1\" class=\"data row2 col1\" >0.879668</td>\n",
       "                        <td id=\"T_e3854326_c03a_11eb_a66e_d45d64652f2crow2_col2\" class=\"data row2 col2\" >0.836066</td>\n",
       "                        <td id=\"T_e3854326_c03a_11eb_a66e_d45d64652f2crow2_col3\" class=\"data row2 col3\" >0.962963</td>\n",
       "            </tr>\n",
       "            <tr>\n",
       "                        <th id=\"T_e3854326_c03a_11eb_a66e_d45d64652f2clevel0_row3\" class=\"row_heading level0 row3\" >2</th>\n",
       "                        <td id=\"T_e3854326_c03a_11eb_a66e_d45d64652f2crow3_col0\" class=\"data row3 col0\" >Logistic Regression</td>\n",
       "                        <td id=\"T_e3854326_c03a_11eb_a66e_d45d64652f2crow3_col1\" class=\"data row3 col1\" >0.863071</td>\n",
       "                        <td id=\"T_e3854326_c03a_11eb_a66e_d45d64652f2crow3_col2\" class=\"data row3 col2\" >0.819672</td>\n",
       "                        <td id=\"T_e3854326_c03a_11eb_a66e_d45d64652f2crow3_col3\" class=\"data row3 col3\" >0.888889</td>\n",
       "            </tr>\n",
       "            <tr>\n",
       "                        <th id=\"T_e3854326_c03a_11eb_a66e_d45d64652f2clevel0_row4\" class=\"row_heading level0 row4\" >0</th>\n",
       "                        <td id=\"T_e3854326_c03a_11eb_a66e_d45d64652f2crow4_col0\" class=\"data row4 col0\" >Decision Tree</td>\n",
       "                        <td id=\"T_e3854326_c03a_11eb_a66e_d45d64652f2crow4_col1\" class=\"data row4 col1\" >1.000000</td>\n",
       "                        <td id=\"T_e3854326_c03a_11eb_a66e_d45d64652f2crow4_col2\" class=\"data row4 col2\" >0.721311</td>\n",
       "                        <td id=\"T_e3854326_c03a_11eb_a66e_d45d64652f2crow4_col3\" class=\"data row4 col3\" >0.703704</td>\n",
       "            </tr>\n",
       "    </tbody></table>"
      ],
      "text/plain": [
       "<pandas.io.formats.style.Styler at 0x1d764081688>"
      ]
     },
     "execution_count": 37,
     "metadata": {},
     "output_type": "execute_result"
    }
   ],
   "source": [
    "s_v1 = output_v1.groupby(['Models'])['Accuracy_train','Accuracy_test','Recall'].mean().reset_index().sort_values(by='Accuracy_test',ascending=False)\n",
    "s_v1.head(10).style.background_gradient(cmap='Reds')"
   ]
  },
  {
   "cell_type": "markdown",
   "id": "unknown-bulgaria",
   "metadata": {},
   "source": [
    "RandomForest và Decision Tree cho thấy 2 mô hình này bị overfit"
   ]
  },
  {
   "cell_type": "markdown",
   "id": "plain-pride",
   "metadata": {},
   "source": [
    "# Model Selection and Training"
   ]
  },
  {
   "cell_type": "code",
   "execution_count": 112,
   "id": "better-living",
   "metadata": {
    "execution": {
     "iopub.execute_input": "2021-05-22T05:41:52.608072Z",
     "iopub.status.busy": "2021-05-22T05:41:52.607706Z",
     "iopub.status.idle": "2021-05-22T05:41:52.62481Z",
     "shell.execute_reply": "2021-05-22T05:41:52.623588Z",
     "shell.execute_reply.started": "2021-05-22T05:41:52.608033Z"
    }
   },
   "outputs": [],
   "source": [
    "dummy_variable1 = pd.get_dummies(df.Chest_pain)\n",
    "dummy_variable2 = pd.get_dummies(df.Thalassemia_types)\n",
    "dummy_variable3 = pd.get_dummies(df.ECG_results)\n",
    "dummy_variable4 = pd.get_dummies(df.ST_slope)\n",
    "dummy_variable5 = pd.get_dummies(df.Major_vessels)\n",
    "df_after_dummy = pd.concat([df,dummy_variable1,dummy_variable2,dummy_variable3,dummy_variable4,dummy_variable5],axis = 'columns')"
   ]
  },
  {
   "cell_type": "code",
   "execution_count": 113,
   "id": "previous-estate",
   "metadata": {},
   "outputs": [
    {
     "data": {
      "text/html": [
       "<div>\n",
       "<style scoped>\n",
       "    .dataframe tbody tr th:only-of-type {\n",
       "        vertical-align: middle;\n",
       "    }\n",
       "\n",
       "    .dataframe tbody tr th {\n",
       "        vertical-align: top;\n",
       "    }\n",
       "\n",
       "    .dataframe thead th {\n",
       "        text-align: right;\n",
       "    }\n",
       "</style>\n",
       "<table border=\"1\" class=\"dataframe\">\n",
       "  <thead>\n",
       "    <tr style=\"text-align: right;\">\n",
       "      <th></th>\n",
       "      <th>0</th>\n",
       "      <th>1</th>\n",
       "      <th>2</th>\n",
       "      <th>3</th>\n",
       "    </tr>\n",
       "  </thead>\n",
       "  <tbody>\n",
       "    <tr>\n",
       "      <th>0</th>\n",
       "      <td>0</td>\n",
       "      <td>0</td>\n",
       "      <td>1</td>\n",
       "      <td>0</td>\n",
       "    </tr>\n",
       "    <tr>\n",
       "      <th>1</th>\n",
       "      <td>0</td>\n",
       "      <td>1</td>\n",
       "      <td>0</td>\n",
       "      <td>0</td>\n",
       "    </tr>\n",
       "    <tr>\n",
       "      <th>2</th>\n",
       "      <td>0</td>\n",
       "      <td>0</td>\n",
       "      <td>0</td>\n",
       "      <td>1</td>\n",
       "    </tr>\n",
       "    <tr>\n",
       "      <th>3</th>\n",
       "      <td>0</td>\n",
       "      <td>0</td>\n",
       "      <td>1</td>\n",
       "      <td>0</td>\n",
       "    </tr>\n",
       "    <tr>\n",
       "      <th>4</th>\n",
       "      <td>1</td>\n",
       "      <td>0</td>\n",
       "      <td>0</td>\n",
       "      <td>0</td>\n",
       "    </tr>\n",
       "    <tr>\n",
       "      <th>...</th>\n",
       "      <td>...</td>\n",
       "      <td>...</td>\n",
       "      <td>...</td>\n",
       "      <td>...</td>\n",
       "    </tr>\n",
       "    <tr>\n",
       "      <th>297</th>\n",
       "      <td>0</td>\n",
       "      <td>1</td>\n",
       "      <td>0</td>\n",
       "      <td>0</td>\n",
       "    </tr>\n",
       "    <tr>\n",
       "      <th>298</th>\n",
       "      <td>1</td>\n",
       "      <td>0</td>\n",
       "      <td>0</td>\n",
       "      <td>0</td>\n",
       "    </tr>\n",
       "    <tr>\n",
       "      <th>299</th>\n",
       "      <td>1</td>\n",
       "      <td>0</td>\n",
       "      <td>0</td>\n",
       "      <td>0</td>\n",
       "    </tr>\n",
       "    <tr>\n",
       "      <th>300</th>\n",
       "      <td>1</td>\n",
       "      <td>0</td>\n",
       "      <td>0</td>\n",
       "      <td>0</td>\n",
       "    </tr>\n",
       "    <tr>\n",
       "      <th>301</th>\n",
       "      <td>1</td>\n",
       "      <td>0</td>\n",
       "      <td>0</td>\n",
       "      <td>0</td>\n",
       "    </tr>\n",
       "  </tbody>\n",
       "</table>\n",
       "<p>302 rows × 4 columns</p>\n",
       "</div>"
      ],
      "text/plain": [
       "     0  1  2  3\n",
       "0    0  0  1  0\n",
       "1    0  1  0  0\n",
       "2    0  0  0  1\n",
       "3    0  0  1  0\n",
       "4    1  0  0  0\n",
       "..  .. .. .. ..\n",
       "297  0  1  0  0\n",
       "298  1  0  0  0\n",
       "299  1  0  0  0\n",
       "300  1  0  0  0\n",
       "301  1  0  0  0\n",
       "\n",
       "[302 rows x 4 columns]"
      ]
     },
     "execution_count": 113,
     "metadata": {},
     "output_type": "execute_result"
    }
   ],
   "source": [
    "dummy_variable1"
   ]
  },
  {
   "cell_type": "code",
   "execution_count": 39,
   "id": "occasional-lunch",
   "metadata": {
    "execution": {
     "iopub.execute_input": "2021-05-22T05:41:53.712298Z",
     "iopub.status.busy": "2021-05-22T05:41:53.711918Z",
     "iopub.status.idle": "2021-05-22T05:41:53.744418Z",
     "shell.execute_reply": "2021-05-22T05:41:53.743178Z",
     "shell.execute_reply.started": "2021-05-22T05:41:53.71225Z"
    }
   },
   "outputs": [
    {
     "data": {
      "text/html": [
       "<div>\n",
       "<style scoped>\n",
       "    .dataframe tbody tr th:only-of-type {\n",
       "        vertical-align: middle;\n",
       "    }\n",
       "\n",
       "    .dataframe tbody tr th {\n",
       "        vertical-align: top;\n",
       "    }\n",
       "\n",
       "    .dataframe thead th {\n",
       "        text-align: right;\n",
       "    }\n",
       "</style>\n",
       "<table border=\"1\" class=\"dataframe\">\n",
       "  <thead>\n",
       "    <tr style=\"text-align: right;\">\n",
       "      <th></th>\n",
       "      <th>Age</th>\n",
       "      <th>Sex</th>\n",
       "      <th>Chest_pain</th>\n",
       "      <th>Resting_blood_pressure</th>\n",
       "      <th>Cholesterol</th>\n",
       "      <th>Fasting_blood_sugar</th>\n",
       "      <th>ECG_results</th>\n",
       "      <th>Maximum_heart_rate</th>\n",
       "      <th>Exercise_induced_angina</th>\n",
       "      <th>ST_depression</th>\n",
       "      <th>...</th>\n",
       "      <th>1</th>\n",
       "      <th>2</th>\n",
       "      <th>0</th>\n",
       "      <th>1</th>\n",
       "      <th>2</th>\n",
       "      <th>0</th>\n",
       "      <th>1</th>\n",
       "      <th>2</th>\n",
       "      <th>3</th>\n",
       "      <th>4</th>\n",
       "    </tr>\n",
       "  </thead>\n",
       "  <tbody>\n",
       "    <tr>\n",
       "      <th>0</th>\n",
       "      <td>47</td>\n",
       "      <td>1</td>\n",
       "      <td>2</td>\n",
       "      <td>138</td>\n",
       "      <td>257</td>\n",
       "      <td>0</td>\n",
       "      <td>0</td>\n",
       "      <td>156</td>\n",
       "      <td>0</td>\n",
       "      <td>0.0</td>\n",
       "      <td>...</td>\n",
       "      <td>0</td>\n",
       "      <td>0</td>\n",
       "      <td>0</td>\n",
       "      <td>0</td>\n",
       "      <td>1</td>\n",
       "      <td>1</td>\n",
       "      <td>0</td>\n",
       "      <td>0</td>\n",
       "      <td>0</td>\n",
       "      <td>0</td>\n",
       "    </tr>\n",
       "    <tr>\n",
       "      <th>1</th>\n",
       "      <td>54</td>\n",
       "      <td>1</td>\n",
       "      <td>1</td>\n",
       "      <td>108</td>\n",
       "      <td>309</td>\n",
       "      <td>0</td>\n",
       "      <td>1</td>\n",
       "      <td>156</td>\n",
       "      <td>0</td>\n",
       "      <td>0.0</td>\n",
       "      <td>...</td>\n",
       "      <td>1</td>\n",
       "      <td>0</td>\n",
       "      <td>0</td>\n",
       "      <td>0</td>\n",
       "      <td>1</td>\n",
       "      <td>1</td>\n",
       "      <td>0</td>\n",
       "      <td>0</td>\n",
       "      <td>0</td>\n",
       "      <td>0</td>\n",
       "    </tr>\n",
       "    <tr>\n",
       "      <th>2</th>\n",
       "      <td>64</td>\n",
       "      <td>1</td>\n",
       "      <td>3</td>\n",
       "      <td>110</td>\n",
       "      <td>211</td>\n",
       "      <td>0</td>\n",
       "      <td>0</td>\n",
       "      <td>144</td>\n",
       "      <td>1</td>\n",
       "      <td>1.8</td>\n",
       "      <td>...</td>\n",
       "      <td>0</td>\n",
       "      <td>0</td>\n",
       "      <td>0</td>\n",
       "      <td>1</td>\n",
       "      <td>0</td>\n",
       "      <td>1</td>\n",
       "      <td>0</td>\n",
       "      <td>0</td>\n",
       "      <td>0</td>\n",
       "      <td>0</td>\n",
       "    </tr>\n",
       "    <tr>\n",
       "      <th>3</th>\n",
       "      <td>59</td>\n",
       "      <td>1</td>\n",
       "      <td>2</td>\n",
       "      <td>150</td>\n",
       "      <td>212</td>\n",
       "      <td>1</td>\n",
       "      <td>1</td>\n",
       "      <td>157</td>\n",
       "      <td>0</td>\n",
       "      <td>1.6</td>\n",
       "      <td>...</td>\n",
       "      <td>1</td>\n",
       "      <td>0</td>\n",
       "      <td>0</td>\n",
       "      <td>0</td>\n",
       "      <td>1</td>\n",
       "      <td>1</td>\n",
       "      <td>0</td>\n",
       "      <td>0</td>\n",
       "      <td>0</td>\n",
       "      <td>0</td>\n",
       "    </tr>\n",
       "    <tr>\n",
       "      <th>4</th>\n",
       "      <td>67</td>\n",
       "      <td>1</td>\n",
       "      <td>0</td>\n",
       "      <td>100</td>\n",
       "      <td>299</td>\n",
       "      <td>0</td>\n",
       "      <td>0</td>\n",
       "      <td>125</td>\n",
       "      <td>1</td>\n",
       "      <td>0.9</td>\n",
       "      <td>...</td>\n",
       "      <td>0</td>\n",
       "      <td>0</td>\n",
       "      <td>0</td>\n",
       "      <td>1</td>\n",
       "      <td>0</td>\n",
       "      <td>0</td>\n",
       "      <td>0</td>\n",
       "      <td>1</td>\n",
       "      <td>0</td>\n",
       "      <td>0</td>\n",
       "    </tr>\n",
       "    <tr>\n",
       "      <th>...</th>\n",
       "      <td>...</td>\n",
       "      <td>...</td>\n",
       "      <td>...</td>\n",
       "      <td>...</td>\n",
       "      <td>...</td>\n",
       "      <td>...</td>\n",
       "      <td>...</td>\n",
       "      <td>...</td>\n",
       "      <td>...</td>\n",
       "      <td>...</td>\n",
       "      <td>...</td>\n",
       "      <td>...</td>\n",
       "      <td>...</td>\n",
       "      <td>...</td>\n",
       "      <td>...</td>\n",
       "      <td>...</td>\n",
       "      <td>...</td>\n",
       "      <td>...</td>\n",
       "      <td>...</td>\n",
       "      <td>...</td>\n",
       "      <td>...</td>\n",
       "    </tr>\n",
       "    <tr>\n",
       "      <th>297</th>\n",
       "      <td>59</td>\n",
       "      <td>1</td>\n",
       "      <td>1</td>\n",
       "      <td>140</td>\n",
       "      <td>221</td>\n",
       "      <td>0</td>\n",
       "      <td>1</td>\n",
       "      <td>164</td>\n",
       "      <td>1</td>\n",
       "      <td>0.0</td>\n",
       "      <td>...</td>\n",
       "      <td>1</td>\n",
       "      <td>0</td>\n",
       "      <td>0</td>\n",
       "      <td>0</td>\n",
       "      <td>1</td>\n",
       "      <td>1</td>\n",
       "      <td>0</td>\n",
       "      <td>0</td>\n",
       "      <td>0</td>\n",
       "      <td>0</td>\n",
       "    </tr>\n",
       "    <tr>\n",
       "      <th>298</th>\n",
       "      <td>60</td>\n",
       "      <td>1</td>\n",
       "      <td>0</td>\n",
       "      <td>125</td>\n",
       "      <td>258</td>\n",
       "      <td>0</td>\n",
       "      <td>0</td>\n",
       "      <td>141</td>\n",
       "      <td>1</td>\n",
       "      <td>2.8</td>\n",
       "      <td>...</td>\n",
       "      <td>0</td>\n",
       "      <td>0</td>\n",
       "      <td>0</td>\n",
       "      <td>1</td>\n",
       "      <td>0</td>\n",
       "      <td>0</td>\n",
       "      <td>1</td>\n",
       "      <td>0</td>\n",
       "      <td>0</td>\n",
       "      <td>0</td>\n",
       "    </tr>\n",
       "    <tr>\n",
       "      <th>299</th>\n",
       "      <td>47</td>\n",
       "      <td>1</td>\n",
       "      <td>0</td>\n",
       "      <td>110</td>\n",
       "      <td>275</td>\n",
       "      <td>0</td>\n",
       "      <td>0</td>\n",
       "      <td>118</td>\n",
       "      <td>1</td>\n",
       "      <td>1.0</td>\n",
       "      <td>...</td>\n",
       "      <td>0</td>\n",
       "      <td>0</td>\n",
       "      <td>0</td>\n",
       "      <td>1</td>\n",
       "      <td>0</td>\n",
       "      <td>0</td>\n",
       "      <td>1</td>\n",
       "      <td>0</td>\n",
       "      <td>0</td>\n",
       "      <td>0</td>\n",
       "    </tr>\n",
       "    <tr>\n",
       "      <th>300</th>\n",
       "      <td>50</td>\n",
       "      <td>0</td>\n",
       "      <td>0</td>\n",
       "      <td>110</td>\n",
       "      <td>254</td>\n",
       "      <td>0</td>\n",
       "      <td>0</td>\n",
       "      <td>159</td>\n",
       "      <td>0</td>\n",
       "      <td>0.0</td>\n",
       "      <td>...</td>\n",
       "      <td>0</td>\n",
       "      <td>0</td>\n",
       "      <td>0</td>\n",
       "      <td>0</td>\n",
       "      <td>1</td>\n",
       "      <td>1</td>\n",
       "      <td>0</td>\n",
       "      <td>0</td>\n",
       "      <td>0</td>\n",
       "      <td>0</td>\n",
       "    </tr>\n",
       "    <tr>\n",
       "      <th>301</th>\n",
       "      <td>54</td>\n",
       "      <td>1</td>\n",
       "      <td>0</td>\n",
       "      <td>120</td>\n",
       "      <td>188</td>\n",
       "      <td>0</td>\n",
       "      <td>1</td>\n",
       "      <td>113</td>\n",
       "      <td>0</td>\n",
       "      <td>1.4</td>\n",
       "      <td>...</td>\n",
       "      <td>1</td>\n",
       "      <td>0</td>\n",
       "      <td>0</td>\n",
       "      <td>1</td>\n",
       "      <td>0</td>\n",
       "      <td>0</td>\n",
       "      <td>1</td>\n",
       "      <td>0</td>\n",
       "      <td>0</td>\n",
       "      <td>0</td>\n",
       "    </tr>\n",
       "  </tbody>\n",
       "</table>\n",
       "<p>302 rows × 33 columns</p>\n",
       "</div>"
      ],
      "text/plain": [
       "     Age  Sex  Chest_pain  Resting_blood_pressure  Cholesterol  \\\n",
       "0     47    1           2                     138          257   \n",
       "1     54    1           1                     108          309   \n",
       "2     64    1           3                     110          211   \n",
       "3     59    1           2                     150          212   \n",
       "4     67    1           0                     100          299   \n",
       "..   ...  ...         ...                     ...          ...   \n",
       "297   59    1           1                     140          221   \n",
       "298   60    1           0                     125          258   \n",
       "299   47    1           0                     110          275   \n",
       "300   50    0           0                     110          254   \n",
       "301   54    1           0                     120          188   \n",
       "\n",
       "     Fasting_blood_sugar  ECG_results  Maximum_heart_rate  \\\n",
       "0                      0            0                 156   \n",
       "1                      0            1                 156   \n",
       "2                      0            0                 144   \n",
       "3                      1            1                 157   \n",
       "4                      0            0                 125   \n",
       "..                   ...          ...                 ...   \n",
       "297                    0            1                 164   \n",
       "298                    0            0                 141   \n",
       "299                    0            0                 118   \n",
       "300                    0            0                 159   \n",
       "301                    0            1                 113   \n",
       "\n",
       "     Exercise_induced_angina  ST_depression  ...  1  2  0  1  2  0  1  2  3  4  \n",
       "0                          0            0.0  ...  0  0  0  0  1  1  0  0  0  0  \n",
       "1                          0            0.0  ...  1  0  0  0  1  1  0  0  0  0  \n",
       "2                          1            1.8  ...  0  0  0  1  0  1  0  0  0  0  \n",
       "3                          0            1.6  ...  1  0  0  0  1  1  0  0  0  0  \n",
       "4                          1            0.9  ...  0  0  0  1  0  0  0  1  0  0  \n",
       "..                       ...            ...  ... .. .. .. .. .. .. .. .. .. ..  \n",
       "297                        1            0.0  ...  1  0  0  0  1  1  0  0  0  0  \n",
       "298                        1            2.8  ...  0  0  0  1  0  0  1  0  0  0  \n",
       "299                        1            1.0  ...  0  0  0  1  0  0  1  0  0  0  \n",
       "300                        0            0.0  ...  0  0  0  0  1  1  0  0  0  0  \n",
       "301                        0            1.4  ...  1  0  0  1  0  0  1  0  0  0  \n",
       "\n",
       "[302 rows x 33 columns]"
      ]
     },
     "execution_count": 39,
     "metadata": {},
     "output_type": "execute_result"
    }
   ],
   "source": [
    "df_after_dummy"
   ]
  },
  {
   "cell_type": "markdown",
   "id": "retired-preview",
   "metadata": {},
   "source": [
    "Create dummy variables for data to increase accuracy"
   ]
  },
  {
   "cell_type": "code",
   "execution_count": 100,
   "id": "virtual-kinase",
   "metadata": {
    "execution": {
     "iopub.execute_input": "2021-05-22T05:41:55.357447Z",
     "iopub.status.busy": "2021-05-22T05:41:55.357066Z",
     "iopub.status.idle": "2021-05-22T05:41:55.384708Z",
     "shell.execute_reply": "2021-05-22T05:41:55.383411Z",
     "shell.execute_reply.started": "2021-05-22T05:41:55.357414Z"
    }
   },
   "outputs": [
    {
     "data": {
      "text/html": [
       "<div>\n",
       "<style scoped>\n",
       "    .dataframe tbody tr th:only-of-type {\n",
       "        vertical-align: middle;\n",
       "    }\n",
       "\n",
       "    .dataframe tbody tr th {\n",
       "        vertical-align: top;\n",
       "    }\n",
       "\n",
       "    .dataframe thead th {\n",
       "        text-align: right;\n",
       "    }\n",
       "</style>\n",
       "<table border=\"1\" class=\"dataframe\">\n",
       "  <thead>\n",
       "    <tr style=\"text-align: right;\">\n",
       "      <th></th>\n",
       "      <th>Age</th>\n",
       "      <th>Sex</th>\n",
       "      <th>Resting_blood_pressure</th>\n",
       "      <th>Cholesterol</th>\n",
       "      <th>Fasting_blood_sugar</th>\n",
       "      <th>Maximum_heart_rate</th>\n",
       "      <th>Exercise_induced_angina</th>\n",
       "      <th>ST_depression</th>\n",
       "      <th>Heart_attack</th>\n",
       "      <th>0</th>\n",
       "      <th>...</th>\n",
       "      <th>1</th>\n",
       "      <th>2</th>\n",
       "      <th>0</th>\n",
       "      <th>1</th>\n",
       "      <th>2</th>\n",
       "      <th>0</th>\n",
       "      <th>1</th>\n",
       "      <th>2</th>\n",
       "      <th>3</th>\n",
       "      <th>4</th>\n",
       "    </tr>\n",
       "  </thead>\n",
       "  <tbody>\n",
       "    <tr>\n",
       "      <th>0</th>\n",
       "      <td>47</td>\n",
       "      <td>1</td>\n",
       "      <td>138</td>\n",
       "      <td>257</td>\n",
       "      <td>0</td>\n",
       "      <td>156</td>\n",
       "      <td>0</td>\n",
       "      <td>0.0</td>\n",
       "      <td>1</td>\n",
       "      <td>0</td>\n",
       "      <td>...</td>\n",
       "      <td>0</td>\n",
       "      <td>0</td>\n",
       "      <td>0</td>\n",
       "      <td>0</td>\n",
       "      <td>1</td>\n",
       "      <td>1</td>\n",
       "      <td>0</td>\n",
       "      <td>0</td>\n",
       "      <td>0</td>\n",
       "      <td>0</td>\n",
       "    </tr>\n",
       "    <tr>\n",
       "      <th>1</th>\n",
       "      <td>54</td>\n",
       "      <td>1</td>\n",
       "      <td>108</td>\n",
       "      <td>309</td>\n",
       "      <td>0</td>\n",
       "      <td>156</td>\n",
       "      <td>0</td>\n",
       "      <td>0.0</td>\n",
       "      <td>1</td>\n",
       "      <td>0</td>\n",
       "      <td>...</td>\n",
       "      <td>1</td>\n",
       "      <td>0</td>\n",
       "      <td>0</td>\n",
       "      <td>0</td>\n",
       "      <td>1</td>\n",
       "      <td>1</td>\n",
       "      <td>0</td>\n",
       "      <td>0</td>\n",
       "      <td>0</td>\n",
       "      <td>0</td>\n",
       "    </tr>\n",
       "    <tr>\n",
       "      <th>2</th>\n",
       "      <td>64</td>\n",
       "      <td>1</td>\n",
       "      <td>110</td>\n",
       "      <td>211</td>\n",
       "      <td>0</td>\n",
       "      <td>144</td>\n",
       "      <td>1</td>\n",
       "      <td>1.8</td>\n",
       "      <td>1</td>\n",
       "      <td>0</td>\n",
       "      <td>...</td>\n",
       "      <td>0</td>\n",
       "      <td>0</td>\n",
       "      <td>0</td>\n",
       "      <td>1</td>\n",
       "      <td>0</td>\n",
       "      <td>1</td>\n",
       "      <td>0</td>\n",
       "      <td>0</td>\n",
       "      <td>0</td>\n",
       "      <td>0</td>\n",
       "    </tr>\n",
       "    <tr>\n",
       "      <th>3</th>\n",
       "      <td>59</td>\n",
       "      <td>1</td>\n",
       "      <td>150</td>\n",
       "      <td>212</td>\n",
       "      <td>1</td>\n",
       "      <td>157</td>\n",
       "      <td>0</td>\n",
       "      <td>1.6</td>\n",
       "      <td>1</td>\n",
       "      <td>0</td>\n",
       "      <td>...</td>\n",
       "      <td>1</td>\n",
       "      <td>0</td>\n",
       "      <td>0</td>\n",
       "      <td>0</td>\n",
       "      <td>1</td>\n",
       "      <td>1</td>\n",
       "      <td>0</td>\n",
       "      <td>0</td>\n",
       "      <td>0</td>\n",
       "      <td>0</td>\n",
       "    </tr>\n",
       "    <tr>\n",
       "      <th>4</th>\n",
       "      <td>67</td>\n",
       "      <td>1</td>\n",
       "      <td>100</td>\n",
       "      <td>299</td>\n",
       "      <td>0</td>\n",
       "      <td>125</td>\n",
       "      <td>1</td>\n",
       "      <td>0.9</td>\n",
       "      <td>0</td>\n",
       "      <td>1</td>\n",
       "      <td>...</td>\n",
       "      <td>0</td>\n",
       "      <td>0</td>\n",
       "      <td>0</td>\n",
       "      <td>1</td>\n",
       "      <td>0</td>\n",
       "      <td>0</td>\n",
       "      <td>0</td>\n",
       "      <td>1</td>\n",
       "      <td>0</td>\n",
       "      <td>0</td>\n",
       "    </tr>\n",
       "  </tbody>\n",
       "</table>\n",
       "<p>5 rows × 28 columns</p>\n",
       "</div>"
      ],
      "text/plain": [
       "   Age  Sex  Resting_blood_pressure  Cholesterol  Fasting_blood_sugar  \\\n",
       "0   47    1                     138          257                    0   \n",
       "1   54    1                     108          309                    0   \n",
       "2   64    1                     110          211                    0   \n",
       "3   59    1                     150          212                    1   \n",
       "4   67    1                     100          299                    0   \n",
       "\n",
       "   Maximum_heart_rate  Exercise_induced_angina  ST_depression  Heart_attack  \\\n",
       "0                 156                        0            0.0             1   \n",
       "1                 156                        0            0.0             1   \n",
       "2                 144                        1            1.8             1   \n",
       "3                 157                        0            1.6             1   \n",
       "4                 125                        1            0.9             0   \n",
       "\n",
       "   0  ...  1  2  0  1  2  0  1  2  3  4  \n",
       "0  0  ...  0  0  0  0  1  1  0  0  0  0  \n",
       "1  0  ...  1  0  0  0  1  1  0  0  0  0  \n",
       "2  0  ...  0  0  0  1  0  1  0  0  0  0  \n",
       "3  0  ...  1  0  0  0  1  1  0  0  0  0  \n",
       "4  1  ...  0  0  0  1  0  0  0  1  0  0  \n",
       "\n",
       "[5 rows x 28 columns]"
      ]
     },
     "execution_count": 100,
     "metadata": {},
     "output_type": "execute_result"
    }
   ],
   "source": [
    "final = df_after_dummy.drop(['Chest_pain','Thalassemia_types','ECG_results','ST_slope','Major_vessels'],axis = 1)\n",
    "final.head()"
   ]
  },
  {
   "cell_type": "code",
   "execution_count": 101,
   "id": "elect-topic",
   "metadata": {
    "execution": {
     "iopub.execute_input": "2021-05-22T05:41:55.892117Z",
     "iopub.status.busy": "2021-05-22T05:41:55.891748Z",
     "iopub.status.idle": "2021-05-22T05:41:55.925364Z",
     "shell.execute_reply": "2021-05-22T05:41:55.924334Z",
     "shell.execute_reply.started": "2021-05-22T05:41:55.892086Z"
    }
   },
   "outputs": [
    {
     "data": {
      "text/html": [
       "<div>\n",
       "<style scoped>\n",
       "    .dataframe tbody tr th:only-of-type {\n",
       "        vertical-align: middle;\n",
       "    }\n",
       "\n",
       "    .dataframe tbody tr th {\n",
       "        vertical-align: top;\n",
       "    }\n",
       "\n",
       "    .dataframe thead th {\n",
       "        text-align: right;\n",
       "    }\n",
       "</style>\n",
       "<table border=\"1\" class=\"dataframe\">\n",
       "  <thead>\n",
       "    <tr style=\"text-align: right;\">\n",
       "      <th></th>\n",
       "      <th>Age</th>\n",
       "      <th>Sex</th>\n",
       "      <th>Resting_blood_pressure</th>\n",
       "      <th>Cholesterol</th>\n",
       "      <th>Fasting_blood_sugar</th>\n",
       "      <th>Maximum_heart_rate</th>\n",
       "      <th>Exercise_induced_angina</th>\n",
       "      <th>ST_depression</th>\n",
       "      <th>Heart_attack</th>\n",
       "      <th>0</th>\n",
       "      <th>...</th>\n",
       "      <th>1</th>\n",
       "      <th>2</th>\n",
       "      <th>0</th>\n",
       "      <th>1</th>\n",
       "      <th>2</th>\n",
       "      <th>0</th>\n",
       "      <th>1</th>\n",
       "      <th>2</th>\n",
       "      <th>3</th>\n",
       "      <th>4</th>\n",
       "    </tr>\n",
       "  </thead>\n",
       "  <tbody>\n",
       "    <tr>\n",
       "      <th>0</th>\n",
       "      <td>47</td>\n",
       "      <td>1</td>\n",
       "      <td>138</td>\n",
       "      <td>257</td>\n",
       "      <td>0</td>\n",
       "      <td>156</td>\n",
       "      <td>0</td>\n",
       "      <td>0.0</td>\n",
       "      <td>1</td>\n",
       "      <td>0</td>\n",
       "      <td>...</td>\n",
       "      <td>0</td>\n",
       "      <td>0</td>\n",
       "      <td>0</td>\n",
       "      <td>0</td>\n",
       "      <td>1</td>\n",
       "      <td>1</td>\n",
       "      <td>0</td>\n",
       "      <td>0</td>\n",
       "      <td>0</td>\n",
       "      <td>0</td>\n",
       "    </tr>\n",
       "    <tr>\n",
       "      <th>1</th>\n",
       "      <td>54</td>\n",
       "      <td>1</td>\n",
       "      <td>108</td>\n",
       "      <td>309</td>\n",
       "      <td>0</td>\n",
       "      <td>156</td>\n",
       "      <td>0</td>\n",
       "      <td>0.0</td>\n",
       "      <td>1</td>\n",
       "      <td>0</td>\n",
       "      <td>...</td>\n",
       "      <td>1</td>\n",
       "      <td>0</td>\n",
       "      <td>0</td>\n",
       "      <td>0</td>\n",
       "      <td>1</td>\n",
       "      <td>1</td>\n",
       "      <td>0</td>\n",
       "      <td>0</td>\n",
       "      <td>0</td>\n",
       "      <td>0</td>\n",
       "    </tr>\n",
       "    <tr>\n",
       "      <th>2</th>\n",
       "      <td>64</td>\n",
       "      <td>1</td>\n",
       "      <td>110</td>\n",
       "      <td>211</td>\n",
       "      <td>0</td>\n",
       "      <td>144</td>\n",
       "      <td>1</td>\n",
       "      <td>1.8</td>\n",
       "      <td>1</td>\n",
       "      <td>0</td>\n",
       "      <td>...</td>\n",
       "      <td>0</td>\n",
       "      <td>0</td>\n",
       "      <td>0</td>\n",
       "      <td>1</td>\n",
       "      <td>0</td>\n",
       "      <td>1</td>\n",
       "      <td>0</td>\n",
       "      <td>0</td>\n",
       "      <td>0</td>\n",
       "      <td>0</td>\n",
       "    </tr>\n",
       "    <tr>\n",
       "      <th>3</th>\n",
       "      <td>59</td>\n",
       "      <td>1</td>\n",
       "      <td>150</td>\n",
       "      <td>212</td>\n",
       "      <td>1</td>\n",
       "      <td>157</td>\n",
       "      <td>0</td>\n",
       "      <td>1.6</td>\n",
       "      <td>1</td>\n",
       "      <td>0</td>\n",
       "      <td>...</td>\n",
       "      <td>1</td>\n",
       "      <td>0</td>\n",
       "      <td>0</td>\n",
       "      <td>0</td>\n",
       "      <td>1</td>\n",
       "      <td>1</td>\n",
       "      <td>0</td>\n",
       "      <td>0</td>\n",
       "      <td>0</td>\n",
       "      <td>0</td>\n",
       "    </tr>\n",
       "    <tr>\n",
       "      <th>4</th>\n",
       "      <td>67</td>\n",
       "      <td>1</td>\n",
       "      <td>100</td>\n",
       "      <td>299</td>\n",
       "      <td>0</td>\n",
       "      <td>125</td>\n",
       "      <td>1</td>\n",
       "      <td>0.9</td>\n",
       "      <td>0</td>\n",
       "      <td>1</td>\n",
       "      <td>...</td>\n",
       "      <td>0</td>\n",
       "      <td>0</td>\n",
       "      <td>0</td>\n",
       "      <td>1</td>\n",
       "      <td>0</td>\n",
       "      <td>0</td>\n",
       "      <td>0</td>\n",
       "      <td>1</td>\n",
       "      <td>0</td>\n",
       "      <td>0</td>\n",
       "    </tr>\n",
       "    <tr>\n",
       "      <th>...</th>\n",
       "      <td>...</td>\n",
       "      <td>...</td>\n",
       "      <td>...</td>\n",
       "      <td>...</td>\n",
       "      <td>...</td>\n",
       "      <td>...</td>\n",
       "      <td>...</td>\n",
       "      <td>...</td>\n",
       "      <td>...</td>\n",
       "      <td>...</td>\n",
       "      <td>...</td>\n",
       "      <td>...</td>\n",
       "      <td>...</td>\n",
       "      <td>...</td>\n",
       "      <td>...</td>\n",
       "      <td>...</td>\n",
       "      <td>...</td>\n",
       "      <td>...</td>\n",
       "      <td>...</td>\n",
       "      <td>...</td>\n",
       "      <td>...</td>\n",
       "    </tr>\n",
       "    <tr>\n",
       "      <th>297</th>\n",
       "      <td>59</td>\n",
       "      <td>1</td>\n",
       "      <td>140</td>\n",
       "      <td>221</td>\n",
       "      <td>0</td>\n",
       "      <td>164</td>\n",
       "      <td>1</td>\n",
       "      <td>0.0</td>\n",
       "      <td>1</td>\n",
       "      <td>0</td>\n",
       "      <td>...</td>\n",
       "      <td>1</td>\n",
       "      <td>0</td>\n",
       "      <td>0</td>\n",
       "      <td>0</td>\n",
       "      <td>1</td>\n",
       "      <td>1</td>\n",
       "      <td>0</td>\n",
       "      <td>0</td>\n",
       "      <td>0</td>\n",
       "      <td>0</td>\n",
       "    </tr>\n",
       "    <tr>\n",
       "      <th>298</th>\n",
       "      <td>60</td>\n",
       "      <td>1</td>\n",
       "      <td>125</td>\n",
       "      <td>258</td>\n",
       "      <td>0</td>\n",
       "      <td>141</td>\n",
       "      <td>1</td>\n",
       "      <td>2.8</td>\n",
       "      <td>0</td>\n",
       "      <td>1</td>\n",
       "      <td>...</td>\n",
       "      <td>0</td>\n",
       "      <td>0</td>\n",
       "      <td>0</td>\n",
       "      <td>1</td>\n",
       "      <td>0</td>\n",
       "      <td>0</td>\n",
       "      <td>1</td>\n",
       "      <td>0</td>\n",
       "      <td>0</td>\n",
       "      <td>0</td>\n",
       "    </tr>\n",
       "    <tr>\n",
       "      <th>299</th>\n",
       "      <td>47</td>\n",
       "      <td>1</td>\n",
       "      <td>110</td>\n",
       "      <td>275</td>\n",
       "      <td>0</td>\n",
       "      <td>118</td>\n",
       "      <td>1</td>\n",
       "      <td>1.0</td>\n",
       "      <td>0</td>\n",
       "      <td>1</td>\n",
       "      <td>...</td>\n",
       "      <td>0</td>\n",
       "      <td>0</td>\n",
       "      <td>0</td>\n",
       "      <td>1</td>\n",
       "      <td>0</td>\n",
       "      <td>0</td>\n",
       "      <td>1</td>\n",
       "      <td>0</td>\n",
       "      <td>0</td>\n",
       "      <td>0</td>\n",
       "    </tr>\n",
       "    <tr>\n",
       "      <th>300</th>\n",
       "      <td>50</td>\n",
       "      <td>0</td>\n",
       "      <td>110</td>\n",
       "      <td>254</td>\n",
       "      <td>0</td>\n",
       "      <td>159</td>\n",
       "      <td>0</td>\n",
       "      <td>0.0</td>\n",
       "      <td>1</td>\n",
       "      <td>1</td>\n",
       "      <td>...</td>\n",
       "      <td>0</td>\n",
       "      <td>0</td>\n",
       "      <td>0</td>\n",
       "      <td>0</td>\n",
       "      <td>1</td>\n",
       "      <td>1</td>\n",
       "      <td>0</td>\n",
       "      <td>0</td>\n",
       "      <td>0</td>\n",
       "      <td>0</td>\n",
       "    </tr>\n",
       "    <tr>\n",
       "      <th>301</th>\n",
       "      <td>54</td>\n",
       "      <td>1</td>\n",
       "      <td>120</td>\n",
       "      <td>188</td>\n",
       "      <td>0</td>\n",
       "      <td>113</td>\n",
       "      <td>0</td>\n",
       "      <td>1.4</td>\n",
       "      <td>0</td>\n",
       "      <td>1</td>\n",
       "      <td>...</td>\n",
       "      <td>1</td>\n",
       "      <td>0</td>\n",
       "      <td>0</td>\n",
       "      <td>1</td>\n",
       "      <td>0</td>\n",
       "      <td>0</td>\n",
       "      <td>1</td>\n",
       "      <td>0</td>\n",
       "      <td>0</td>\n",
       "      <td>0</td>\n",
       "    </tr>\n",
       "  </tbody>\n",
       "</table>\n",
       "<p>302 rows × 28 columns</p>\n",
       "</div>"
      ],
      "text/plain": [
       "     Age  Sex  Resting_blood_pressure  Cholesterol  Fasting_blood_sugar  \\\n",
       "0     47    1                     138          257                    0   \n",
       "1     54    1                     108          309                    0   \n",
       "2     64    1                     110          211                    0   \n",
       "3     59    1                     150          212                    1   \n",
       "4     67    1                     100          299                    0   \n",
       "..   ...  ...                     ...          ...                  ...   \n",
       "297   59    1                     140          221                    0   \n",
       "298   60    1                     125          258                    0   \n",
       "299   47    1                     110          275                    0   \n",
       "300   50    0                     110          254                    0   \n",
       "301   54    1                     120          188                    0   \n",
       "\n",
       "     Maximum_heart_rate  Exercise_induced_angina  ST_depression  Heart_attack  \\\n",
       "0                   156                        0            0.0             1   \n",
       "1                   156                        0            0.0             1   \n",
       "2                   144                        1            1.8             1   \n",
       "3                   157                        0            1.6             1   \n",
       "4                   125                        1            0.9             0   \n",
       "..                  ...                      ...            ...           ...   \n",
       "297                 164                        1            0.0             1   \n",
       "298                 141                        1            2.8             0   \n",
       "299                 118                        1            1.0             0   \n",
       "300                 159                        0            0.0             1   \n",
       "301                 113                        0            1.4             0   \n",
       "\n",
       "     0  ...  1  2  0  1  2  0  1  2  3  4  \n",
       "0    0  ...  0  0  0  0  1  1  0  0  0  0  \n",
       "1    0  ...  1  0  0  0  1  1  0  0  0  0  \n",
       "2    0  ...  0  0  0  1  0  1  0  0  0  0  \n",
       "3    0  ...  1  0  0  0  1  1  0  0  0  0  \n",
       "4    1  ...  0  0  0  1  0  0  0  1  0  0  \n",
       "..  ..  ... .. .. .. .. .. .. .. .. .. ..  \n",
       "297  0  ...  1  0  0  0  1  1  0  0  0  0  \n",
       "298  1  ...  0  0  0  1  0  0  1  0  0  0  \n",
       "299  1  ...  0  0  0  1  0  0  1  0  0  0  \n",
       "300  1  ...  0  0  0  0  1  1  0  0  0  0  \n",
       "301  1  ...  1  0  0  1  0  0  1  0  0  0  \n",
       "\n",
       "[302 rows x 28 columns]"
      ]
     },
     "execution_count": 101,
     "metadata": {},
     "output_type": "execute_result"
    }
   ],
   "source": [
    "final"
   ]
  },
  {
   "cell_type": "code",
   "execution_count": 102,
   "id": "chubby-characterization",
   "metadata": {
    "execution": {
     "iopub.execute_input": "2021-05-22T05:41:56.456246Z",
     "iopub.status.busy": "2021-05-22T05:41:56.455897Z",
     "iopub.status.idle": "2021-05-22T05:41:56.466583Z",
     "shell.execute_reply": "2021-05-22T05:41:56.465476Z",
     "shell.execute_reply.started": "2021-05-22T05:41:56.456214Z"
    }
   },
   "outputs": [],
   "source": [
    "x = final.drop(['Heart_attack'], axis = 1)\n",
    "y = final['Heart_attack']"
   ]
  },
  {
   "cell_type": "code",
   "execution_count": 110,
   "id": "commercial-notification",
   "metadata": {
    "execution": {
     "iopub.execute_input": "2021-05-22T05:41:57.008554Z",
     "iopub.status.busy": "2021-05-22T05:41:57.008183Z",
     "iopub.status.idle": "2021-05-22T05:41:57.016868Z",
     "shell.execute_reply": "2021-05-22T05:41:57.016152Z",
     "shell.execute_reply.started": "2021-05-22T05:41:57.008524Z"
    }
   },
   "outputs": [],
   "source": [
    "x_train, x_test, y_train, y_test = train_test_split(x,y,test_size = 0.20, random_state = 5)"
   ]
  },
  {
   "cell_type": "code",
   "execution_count": 111,
   "id": "fabulous-blank",
   "metadata": {},
   "outputs": [
    {
     "data": {
      "text/html": [
       "<div>\n",
       "<style scoped>\n",
       "    .dataframe tbody tr th:only-of-type {\n",
       "        vertical-align: middle;\n",
       "    }\n",
       "\n",
       "    .dataframe tbody tr th {\n",
       "        vertical-align: top;\n",
       "    }\n",
       "\n",
       "    .dataframe thead th {\n",
       "        text-align: right;\n",
       "    }\n",
       "</style>\n",
       "<table border=\"1\" class=\"dataframe\">\n",
       "  <thead>\n",
       "    <tr style=\"text-align: right;\">\n",
       "      <th></th>\n",
       "      <th>Age</th>\n",
       "      <th>Sex</th>\n",
       "      <th>Chest_pain</th>\n",
       "      <th>Resting_blood_pressure</th>\n",
       "      <th>Cholesterol</th>\n",
       "      <th>Fasting_blood_sugar</th>\n",
       "      <th>ECG_results</th>\n",
       "      <th>Maximum_heart_rate</th>\n",
       "      <th>Exercise_induced_angina</th>\n",
       "      <th>ST_depression</th>\n",
       "      <th>ST_slope</th>\n",
       "      <th>Major_vessels</th>\n",
       "      <th>Thalassemia_types</th>\n",
       "    </tr>\n",
       "  </thead>\n",
       "  <tbody>\n",
       "    <tr>\n",
       "      <th>145</th>\n",
       "      <td>45</td>\n",
       "      <td>1</td>\n",
       "      <td>0</td>\n",
       "      <td>115</td>\n",
       "      <td>260</td>\n",
       "      <td>0</td>\n",
       "      <td>0</td>\n",
       "      <td>185</td>\n",
       "      <td>0</td>\n",
       "      <td>0.0</td>\n",
       "      <td>2</td>\n",
       "      <td>0</td>\n",
       "      <td>2</td>\n",
       "    </tr>\n",
       "    <tr>\n",
       "      <th>161</th>\n",
       "      <td>56</td>\n",
       "      <td>1</td>\n",
       "      <td>0</td>\n",
       "      <td>132</td>\n",
       "      <td>184</td>\n",
       "      <td>0</td>\n",
       "      <td>0</td>\n",
       "      <td>105</td>\n",
       "      <td>1</td>\n",
       "      <td>2.1</td>\n",
       "      <td>1</td>\n",
       "      <td>1</td>\n",
       "      <td>1</td>\n",
       "    </tr>\n",
       "    <tr>\n",
       "      <th>98</th>\n",
       "      <td>66</td>\n",
       "      <td>0</td>\n",
       "      <td>3</td>\n",
       "      <td>150</td>\n",
       "      <td>226</td>\n",
       "      <td>0</td>\n",
       "      <td>1</td>\n",
       "      <td>114</td>\n",
       "      <td>0</td>\n",
       "      <td>2.6</td>\n",
       "      <td>0</td>\n",
       "      <td>0</td>\n",
       "      <td>2</td>\n",
       "    </tr>\n",
       "    <tr>\n",
       "      <th>123</th>\n",
       "      <td>34</td>\n",
       "      <td>0</td>\n",
       "      <td>1</td>\n",
       "      <td>118</td>\n",
       "      <td>210</td>\n",
       "      <td>0</td>\n",
       "      <td>1</td>\n",
       "      <td>192</td>\n",
       "      <td>0</td>\n",
       "      <td>0.7</td>\n",
       "      <td>2</td>\n",
       "      <td>0</td>\n",
       "      <td>2</td>\n",
       "    </tr>\n",
       "    <tr>\n",
       "      <th>11</th>\n",
       "      <td>77</td>\n",
       "      <td>1</td>\n",
       "      <td>0</td>\n",
       "      <td>125</td>\n",
       "      <td>304</td>\n",
       "      <td>0</td>\n",
       "      <td>0</td>\n",
       "      <td>162</td>\n",
       "      <td>1</td>\n",
       "      <td>0.0</td>\n",
       "      <td>2</td>\n",
       "      <td>3</td>\n",
       "      <td>2</td>\n",
       "    </tr>\n",
       "    <tr>\n",
       "      <th>...</th>\n",
       "      <td>...</td>\n",
       "      <td>...</td>\n",
       "      <td>...</td>\n",
       "      <td>...</td>\n",
       "      <td>...</td>\n",
       "      <td>...</td>\n",
       "      <td>...</td>\n",
       "      <td>...</td>\n",
       "      <td>...</td>\n",
       "      <td>...</td>\n",
       "      <td>...</td>\n",
       "      <td>...</td>\n",
       "      <td>...</td>\n",
       "    </tr>\n",
       "    <tr>\n",
       "      <th>8</th>\n",
       "      <td>66</td>\n",
       "      <td>1</td>\n",
       "      <td>0</td>\n",
       "      <td>120</td>\n",
       "      <td>302</td>\n",
       "      <td>0</td>\n",
       "      <td>0</td>\n",
       "      <td>151</td>\n",
       "      <td>0</td>\n",
       "      <td>0.4</td>\n",
       "      <td>1</td>\n",
       "      <td>0</td>\n",
       "      <td>2</td>\n",
       "    </tr>\n",
       "    <tr>\n",
       "      <th>73</th>\n",
       "      <td>56</td>\n",
       "      <td>1</td>\n",
       "      <td>0</td>\n",
       "      <td>130</td>\n",
       "      <td>283</td>\n",
       "      <td>1</td>\n",
       "      <td>0</td>\n",
       "      <td>103</td>\n",
       "      <td>1</td>\n",
       "      <td>1.6</td>\n",
       "      <td>0</td>\n",
       "      <td>0</td>\n",
       "      <td>3</td>\n",
       "    </tr>\n",
       "    <tr>\n",
       "      <th>118</th>\n",
       "      <td>63</td>\n",
       "      <td>1</td>\n",
       "      <td>0</td>\n",
       "      <td>140</td>\n",
       "      <td>187</td>\n",
       "      <td>0</td>\n",
       "      <td>0</td>\n",
       "      <td>144</td>\n",
       "      <td>1</td>\n",
       "      <td>4.0</td>\n",
       "      <td>2</td>\n",
       "      <td>2</td>\n",
       "      <td>3</td>\n",
       "    </tr>\n",
       "    <tr>\n",
       "      <th>189</th>\n",
       "      <td>60</td>\n",
       "      <td>0</td>\n",
       "      <td>0</td>\n",
       "      <td>150</td>\n",
       "      <td>258</td>\n",
       "      <td>0</td>\n",
       "      <td>0</td>\n",
       "      <td>157</td>\n",
       "      <td>0</td>\n",
       "      <td>2.6</td>\n",
       "      <td>1</td>\n",
       "      <td>2</td>\n",
       "      <td>3</td>\n",
       "    </tr>\n",
       "    <tr>\n",
       "      <th>206</th>\n",
       "      <td>35</td>\n",
       "      <td>1</td>\n",
       "      <td>0</td>\n",
       "      <td>120</td>\n",
       "      <td>198</td>\n",
       "      <td>0</td>\n",
       "      <td>1</td>\n",
       "      <td>130</td>\n",
       "      <td>1</td>\n",
       "      <td>1.6</td>\n",
       "      <td>1</td>\n",
       "      <td>0</td>\n",
       "      <td>3</td>\n",
       "    </tr>\n",
       "  </tbody>\n",
       "</table>\n",
       "<p>241 rows × 13 columns</p>\n",
       "</div>"
      ],
      "text/plain": [
       "     Age  Sex  Chest_pain  Resting_blood_pressure  Cholesterol  \\\n",
       "145   45    1           0                     115          260   \n",
       "161   56    1           0                     132          184   \n",
       "98    66    0           3                     150          226   \n",
       "123   34    0           1                     118          210   \n",
       "11    77    1           0                     125          304   \n",
       "..   ...  ...         ...                     ...          ...   \n",
       "8     66    1           0                     120          302   \n",
       "73    56    1           0                     130          283   \n",
       "118   63    1           0                     140          187   \n",
       "189   60    0           0                     150          258   \n",
       "206   35    1           0                     120          198   \n",
       "\n",
       "     Fasting_blood_sugar  ECG_results  Maximum_heart_rate  \\\n",
       "145                    0            0                 185   \n",
       "161                    0            0                 105   \n",
       "98                     0            1                 114   \n",
       "123                    0            1                 192   \n",
       "11                     0            0                 162   \n",
       "..                   ...          ...                 ...   \n",
       "8                      0            0                 151   \n",
       "73                     1            0                 103   \n",
       "118                    0            0                 144   \n",
       "189                    0            0                 157   \n",
       "206                    0            1                 130   \n",
       "\n",
       "     Exercise_induced_angina  ST_depression  ST_slope  Major_vessels  \\\n",
       "145                        0            0.0         2              0   \n",
       "161                        1            2.1         1              1   \n",
       "98                         0            2.6         0              0   \n",
       "123                        0            0.7         2              0   \n",
       "11                         1            0.0         2              3   \n",
       "..                       ...            ...       ...            ...   \n",
       "8                          0            0.4         1              0   \n",
       "73                         1            1.6         0              0   \n",
       "118                        1            4.0         2              2   \n",
       "189                        0            2.6         1              2   \n",
       "206                        1            1.6         1              0   \n",
       "\n",
       "     Thalassemia_types  \n",
       "145                  2  \n",
       "161                  1  \n",
       "98                   2  \n",
       "123                  2  \n",
       "11                   2  \n",
       "..                 ...  \n",
       "8                    2  \n",
       "73                   3  \n",
       "118                  3  \n",
       "189                  3  \n",
       "206                  3  \n",
       "\n",
       "[241 rows x 13 columns]"
      ]
     },
     "execution_count": 111,
     "metadata": {},
     "output_type": "execute_result"
    }
   ],
   "source": [
    "x_train"
   ]
  },
  {
   "cell_type": "code",
   "execution_count": 104,
   "id": "fancy-danger",
   "metadata": {
    "execution": {
     "iopub.execute_input": "2021-05-22T05:41:57.764631Z",
     "iopub.status.busy": "2021-05-22T05:41:57.764124Z",
     "iopub.status.idle": "2021-05-22T05:41:57.776185Z",
     "shell.execute_reply": "2021-05-22T05:41:57.775361Z",
     "shell.execute_reply.started": "2021-05-22T05:41:57.764598Z"
    }
   },
   "outputs": [],
   "source": [
    "feature_scaler = MinMaxScaler()\n",
    "x_train = feature_scaler.fit_transform(x_train)\n",
    "x_test = feature_scaler.transform(x_test)"
   ]
  },
  {
   "cell_type": "code",
   "execution_count": 109,
   "id": "hourly-berlin",
   "metadata": {},
   "outputs": [
    {
     "data": {
      "text/plain": [
       "array([[0.625     , 1.        , 0.66666667, ..., 0.5       , 0.25      ,\n",
       "        0.33333333],\n",
       "       [0.54166667, 0.        , 0.33333333, ..., 0.5       , 0.        ,\n",
       "        0.66666667],\n",
       "       [0.83333333, 0.        , 1.        , ..., 1.        , 0.5       ,\n",
       "        0.66666667],\n",
       "       ...,\n",
       "       [0.5625    , 1.        , 0.        , ..., 0.5       , 0.25      ,\n",
       "        0.66666667],\n",
       "       [0.72916667, 0.        , 0.        , ..., 0.5       , 0.5       ,\n",
       "        0.66666667],\n",
       "       [0.54166667, 0.        , 0.        , ..., 0.5       , 0.        ,\n",
       "        0.66666667]])"
      ]
     },
     "execution_count": 109,
     "metadata": {},
     "output_type": "execute_result"
    }
   ],
   "source": [
    "x_train"
   ]
  },
  {
   "cell_type": "code",
   "execution_count": 45,
   "id": "thirty-cowboy",
   "metadata": {
    "execution": {
     "iopub.execute_input": "2021-05-22T05:42:00.98839Z",
     "iopub.status.busy": "2021-05-22T05:42:00.98788Z",
     "iopub.status.idle": "2021-05-22T05:42:00.992454Z",
     "shell.execute_reply": "2021-05-22T05:42:00.991401Z",
     "shell.execute_reply.started": "2021-05-22T05:42:00.988357Z"
    }
   },
   "outputs": [],
   "source": [
    "accuracy_train = []\n",
    "accuracy_test = []\n",
    "recall_model = []"
   ]
  },
  {
   "cell_type": "markdown",
   "id": "ready-crystal",
   "metadata": {},
   "source": [
    "# Logistic Regression"
   ]
  },
  {
   "cell_type": "code",
   "execution_count": 46,
   "id": "federal-jenny",
   "metadata": {
    "execution": {
     "iopub.execute_input": "2021-05-21T22:23:03.305699Z",
     "iopub.status.busy": "2021-05-21T22:23:03.305349Z",
     "iopub.status.idle": "2021-05-21T22:23:03.694707Z",
     "shell.execute_reply": "2021-05-21T22:23:03.693908Z",
     "shell.execute_reply.started": "2021-05-21T22:23:03.305659Z"
    }
   },
   "outputs": [
    {
     "name": "stdout",
     "output_type": "stream",
     "text": [
      "Best: 0.831333 using {'C': 1.0, 'penalty': 'l2', 'solver': 'newton-cg'}\n",
      "0.819111 (0.081690) with: {'C': 100, 'penalty': 'l2', 'solver': 'newton-cg'}\n",
      "0.819111 (0.081690) with: {'C': 100, 'penalty': 'l2', 'solver': 'lbfgs'}\n",
      "0.819111 (0.081690) with: {'C': 100, 'penalty': 'l2', 'solver': 'liblinear'}\n",
      "0.820556 (0.082090) with: {'C': 30, 'penalty': 'l2', 'solver': 'newton-cg'}\n",
      "0.820556 (0.082090) with: {'C': 30, 'penalty': 'l2', 'solver': 'lbfgs'}\n",
      "0.820611 (0.081907) with: {'C': 30, 'penalty': 'l2', 'solver': 'liblinear'}\n",
      "0.824611 (0.076384) with: {'C': 20, 'penalty': 'l2', 'solver': 'newton-cg'}\n",
      "0.824611 (0.076384) with: {'C': 20, 'penalty': 'l2', 'solver': 'lbfgs'}\n",
      "0.821889 (0.076577) with: {'C': 20, 'penalty': 'l2', 'solver': 'liblinear'}\n",
      "0.823167 (0.072063) with: {'C': 10, 'penalty': 'l2', 'solver': 'newton-cg'}\n",
      "0.823167 (0.072063) with: {'C': 10, 'penalty': 'l2', 'solver': 'lbfgs'}\n",
      "0.824556 (0.068612) with: {'C': 10, 'penalty': 'l2', 'solver': 'liblinear'}\n",
      "0.831333 (0.065102) with: {'C': 1.0, 'penalty': 'l2', 'solver': 'newton-cg'}\n",
      "0.831333 (0.065102) with: {'C': 1.0, 'penalty': 'l2', 'solver': 'lbfgs'}\n",
      "0.828556 (0.070920) with: {'C': 1.0, 'penalty': 'l2', 'solver': 'liblinear'}\n",
      "0.825611 (0.071068) with: {'C': 0.1, 'penalty': 'l2', 'solver': 'newton-cg'}\n",
      "0.825611 (0.071068) with: {'C': 0.1, 'penalty': 'l2', 'solver': 'lbfgs'}\n",
      "0.821556 (0.073083) with: {'C': 0.1, 'penalty': 'l2', 'solver': 'liblinear'}\n",
      "0.817333 (0.071158) with: {'C': 0.01, 'penalty': 'l2', 'solver': 'newton-cg'}\n",
      "0.817333 (0.071158) with: {'C': 0.01, 'penalty': 'l2', 'solver': 'lbfgs'}\n",
      "0.825611 (0.074908) with: {'C': 0.01, 'penalty': 'l2', 'solver': 'liblinear'}\n"
     ]
    }
   ],
   "source": [
    "model = LogisticRegression()\n",
    "solvers = ['newton-cg', 'lbfgs', 'liblinear']\n",
    "c_values = [100, 30, 20, 10, 1.0, 0.1, 0.01]\n",
    "penalty = ['l2']\n",
    "# define grid search\n",
    "grid = dict(solver=solvers,penalty=penalty,C=c_values)\n",
    "cv = RepeatedStratifiedKFold(n_splits=10, n_repeats=3, random_state=1)\n",
    "grid_search = GridSearchCV(estimator=model, param_grid=grid, cv=cv, scoring='accuracy')\n",
    "grid_result = grid_search.fit(x_train, y_train)\n",
    "# summarize results\n",
    "print(\"Best: %f using %s\" % (grid_result.best_score_, grid_result.best_params_))\n",
    "means = grid_result.cv_results_['mean_test_score']\n",
    "stds = grid_result.cv_results_['std_test_score']\n",
    "params = grid_result.cv_results_['params']\n",
    "for mean, stdev, param in zip(means, stds, params):\n",
    "    print(\"%f (%f) with: %r\" % (mean, stdev, param))"
   ]
  },
  {
   "cell_type": "code",
   "execution_count": 47,
   "id": "loved-johns",
   "metadata": {
    "execution": {
     "iopub.execute_input": "2021-05-21T22:23:04.837737Z",
     "iopub.status.busy": "2021-05-21T22:23:04.837387Z",
     "iopub.status.idle": "2021-05-21T22:23:04.855924Z",
     "shell.execute_reply": "2021-05-21T22:23:04.854905Z",
     "shell.execute_reply.started": "2021-05-21T22:23:04.837707Z"
    }
   },
   "outputs": [
    {
     "name": "stdout",
     "output_type": "stream",
     "text": [
      "Logistic Regression Accuracy --> 90.1639344262295\n",
      "0.9459459459459459\n"
     ]
    }
   ],
   "source": [
    "model1 = LogisticRegression(C = 1.0  , solver = 'newton-cg', penalty = 'l2')\n",
    "model1.fit(x_train,y_train)\n",
    "accuracy_train1 = model1.score(x_train,y_train)\n",
    "accuracy_train.append(accuracy_train1)\n",
    "accuracy_test1 = model1.score(x_test,y_test)\n",
    "accuracy_test.append(accuracy_test1)\n",
    "y_pred = model1.predict(x_test)\n",
    "recall1 = recall_score(y_test,y_pred)\n",
    "recall_model.append(recall1)\n",
    "print('Logistic Regression Accuracy -->',((accuracy_test1)*100))\n",
    "print(recall1)"
   ]
  },
  {
   "cell_type": "code",
   "execution_count": 48,
   "id": "completed-writing",
   "metadata": {
    "execution": {
     "iopub.execute_input": "2021-05-21T22:23:08.38946Z",
     "iopub.status.busy": "2021-05-21T22:23:08.389131Z",
     "iopub.status.idle": "2021-05-21T22:23:08.55815Z",
     "shell.execute_reply": "2021-05-21T22:23:08.557227Z",
     "shell.execute_reply.started": "2021-05-21T22:23:08.389432Z"
    }
   },
   "outputs": [
    {
     "data": {
      "text/plain": [
       "<AxesSubplot:title={'center':'Confusion Matrix'}, xlabel='Predicted label', ylabel='True label'>"
      ]
     },
     "execution_count": 48,
     "metadata": {},
     "output_type": "execute_result"
    },
    {
     "data": {
      "image/png": "[encoded data removed]",
      "text/plain": [
       "<Figure size 720x360 with 2 Axes>"
      ]
     },
     "metadata": {
      "needs_background": "light"
     },
     "output_type": "display_data"
    }
   ],
   "source": [
    "pred1 = model1.predict(x_test)\n",
    "matrix1 = (y_test,pred1)\n",
    "skplt.metrics.plot_confusion_matrix(y_test, pred1,figsize=(10,5))"
   ]
  },
  {
   "cell_type": "markdown",
   "id": "verified-duration",
   "metadata": {},
   "source": [
    "# Decision Trees"
   ]
  },
  {
   "cell_type": "code",
   "execution_count": 49,
   "id": "outer-output",
   "metadata": {
    "execution": {
     "iopub.execute_input": "2021-05-21T22:23:10.774482Z",
     "iopub.status.busy": "2021-05-21T22:23:10.774159Z",
     "iopub.status.idle": "2021-05-21T22:23:10.811061Z",
     "shell.execute_reply": "2021-05-21T22:23:10.810129Z",
     "shell.execute_reply.started": "2021-05-21T22:23:10.774455Z"
    }
   },
   "outputs": [
    {
     "name": "stdout",
     "output_type": "stream",
     "text": [
      "Best: 0.753833 using {'criterion': 'gini', 'splitter': 'random'}\n",
      "0.752667 (0.084551) with: {'criterion': 'gini', 'splitter': 'best'}\n",
      "0.753833 (0.107574) with: {'criterion': 'gini', 'splitter': 'random'}\n",
      "0.752611 (0.098635) with: {'criterion': 'entropy', 'splitter': 'best'}\n",
      "0.742778 (0.068836) with: {'criterion': 'entropy', 'splitter': 'random'}\n"
     ]
    }
   ],
   "source": [
    "model = DecisionTreeClassifier()\n",
    "criterions = ['gini','entropy']\n",
    "splitters = ['best','random']\n",
    "# define grid search\n",
    "grid = dict(criterion=criterions,splitter=splitters)\n",
    "cv = RepeatedStratifiedKFold(n_splits=10, n_repeats=3, random_state=1)\n",
    "grid_search = GridSearchCV(estimator=model, param_grid=grid, cv=cv, scoring='accuracy')\n",
    "grid_result = grid_search.fit(x_train, y_train)\n",
    "# summarize results\n",
    "print(\"Best: %f using %s\" % (grid_result.best_score_, grid_result.best_params_))\n",
    "means = grid_result.cv_results_['mean_test_score']\n",
    "stds = grid_result.cv_results_['std_test_score']\n",
    "params = grid_result.cv_results_['params']\n",
    "for mean, stdev, param in zip(means, stds, params):\n",
    "    print(\"%f (%f) with: %r\" % (mean, stdev, param))"
   ]
  },
  {
   "cell_type": "code",
   "execution_count": 89,
   "id": "unavailable-short",
   "metadata": {
    "execution": {
     "iopub.execute_input": "2021-05-21T22:23:11.921813Z",
     "iopub.status.busy": "2021-05-21T22:23:11.921447Z",
     "iopub.status.idle": "2021-05-21T22:23:11.929913Z",
     "shell.execute_reply": "2021-05-21T22:23:11.928863Z",
     "shell.execute_reply.started": "2021-05-21T22:23:11.921778Z"
    }
   },
   "outputs": [
    {
     "name": "stdout",
     "output_type": "stream",
     "text": [
      "Decision Tree Accuracy --> 73.77049180327869\n",
      "0.7777777777777778\n"
     ]
    }
   ],
   "source": [
    "model2 = DecisionTreeClassifier(criterion = 'gini',splitter = 'random' )\n",
    "model2.fit(x_train,y_train)\n",
    "accuracy_train2 = model2.score(x_train,y_train)\n",
    "accuracy_train.append(accuracy_train2)\n",
    "accuracy_test2 = model2.score(x_test,y_test)\n",
    "accuracy_test.append(accuracy_test2)\n",
    "y_pred = model2.predict(x_test)\n",
    "recall2 = recall_score(y_test,y_pred)\n",
    "recall_model.append(recall2)\n",
    "print('Decision Tree Accuracy -->',((accuracy_test2)*100))\n",
    "print(recall2)"
   ]
  },
  {
   "cell_type": "code",
   "execution_count": 51,
   "id": "assisted-testimony",
   "metadata": {
    "execution": {
     "iopub.execute_input": "2021-05-21T22:23:12.785583Z",
     "iopub.status.busy": "2021-05-21T22:23:12.785266Z",
     "iopub.status.idle": "2021-05-21T22:23:12.999585Z",
     "shell.execute_reply": "2021-05-21T22:23:12.998873Z",
     "shell.execute_reply.started": "2021-05-21T22:23:12.785557Z"
    }
   },
   "outputs": [
    {
     "data": {
      "text/plain": [
       "<AxesSubplot:title={'center':'Confusion Matrix'}, xlabel='Predicted label', ylabel='True label'>"
      ]
     },
     "execution_count": 51,
     "metadata": {},
     "output_type": "execute_result"
    },
    {
     "data": {
      "image/png": "[encoded data removed]",
      "text/plain": [
       "<Figure size 720x360 with 2 Axes>"
      ]
     },
     "metadata": {
      "needs_background": "light"
     },
     "output_type": "display_data"
    }
   ],
   "source": [
    "pred2 = model2.predict(x_test)\n",
    "matrix2 = (y_test,pred2)\n",
    "skplt.metrics.plot_confusion_matrix(y_test ,pred2 ,figsize=(10,5))"
   ]
  },
  {
   "cell_type": "markdown",
   "id": "dying-grenada",
   "metadata": {},
   "source": [
    "# SVC"
   ]
  },
  {
   "cell_type": "code",
   "execution_count": 52,
   "id": "familiar-graphic",
   "metadata": {
    "execution": {
     "iopub.execute_input": "2021-05-21T22:23:14.517913Z",
     "iopub.status.busy": "2021-05-21T22:23:14.517444Z",
     "iopub.status.idle": "2021-05-21T22:23:14.897615Z",
     "shell.execute_reply": "2021-05-21T22:23:14.896652Z",
     "shell.execute_reply.started": "2021-05-21T22:23:14.517877Z"
    }
   },
   "outputs": [
    {
     "name": "stdout",
     "output_type": "stream",
     "text": [
      "Best: 0.834056 using {'C': 0.1, 'loss': 'squared_hinge', 'penalty': 'l2'}\n"
     ]
    }
   ],
   "source": [
    "model = LinearSVC()\n",
    "penaltys = ['l1','l2']\n",
    "C = [0.01,0.1,1,5,10,15,20]\n",
    "loss = ['hinge','squared_hinge']\n",
    "# define grid search\n",
    "grid = dict(penalty=penaltys,C=C,loss =loss )\n",
    "cv = RepeatedStratifiedKFold(n_splits=10, n_repeats=3, random_state=1)\n",
    "grid_search = GridSearchCV(estimator=model, param_grid=grid, cv=cv, scoring='accuracy')\n",
    "grid_result = grid_search.fit(x_train, y_train)\n",
    "# summarize results\n",
    "print(\"Best: %f using %s\" % (grid_result.best_score_, grid_result.best_params_))\n",
    "# means = grid_result.cv_results_['mean_test_score']\n",
    "# stds = grid_result.cv_results_['std_test_score']\n",
    "# params = grid_result.cv_results_['params']\n",
    "# for mean, stdev, param in zip(means, stds, params):\n",
    "#     print(\"%f (%f) with: %r\" % (mean, stdev, param))"
   ]
  },
  {
   "cell_type": "code",
   "execution_count": 53,
   "id": "opponent-richardson",
   "metadata": {
    "execution": {
     "iopub.execute_input": "2021-05-21T22:23:14.913674Z",
     "iopub.status.busy": "2021-05-21T22:23:14.913327Z",
     "iopub.status.idle": "2021-05-21T22:23:14.924575Z",
     "shell.execute_reply": "2021-05-21T22:23:14.923731Z",
     "shell.execute_reply.started": "2021-05-21T22:23:14.913635Z"
    }
   },
   "outputs": [
    {
     "name": "stdout",
     "output_type": "stream",
     "text": [
      "SVM Classifier Accuracy --> 91.80327868852459\n"
     ]
    }
   ],
   "source": [
    "model3 = LinearSVC(C =0.1,loss = 'squared_hinge',penalty = 'l2')\n",
    "model3.fit(x_train,y_train)\n",
    "accuracy_train3 = model3.score(x_train,y_train)\n",
    "accuracy_train.append(accuracy_train3)\n",
    "accuracy_test3 = model3.score(x_test,y_test)\n",
    "accuracy_test.append(accuracy_test3)\n",
    "y_pred = model3.predict(x_test)\n",
    "recall3 = recall_score(y_test,y_pred)\n",
    "recall_model.append(recall3)\n",
    "print('SVM Classifier Accuracy -->',((accuracy_test3)*100))\n"
   ]
  },
  {
   "cell_type": "code",
   "execution_count": 54,
   "id": "relative-teddy",
   "metadata": {
    "execution": {
     "iopub.execute_input": "2021-05-21T22:23:15.409667Z",
     "iopub.status.busy": "2021-05-21T22:23:15.409274Z",
     "iopub.status.idle": "2021-05-21T22:23:15.546573Z",
     "shell.execute_reply": "2021-05-21T22:23:15.545662Z",
     "shell.execute_reply.started": "2021-05-21T22:23:15.409631Z"
    }
   },
   "outputs": [
    {
     "data": {
      "text/plain": [
       "<AxesSubplot:title={'center':'Confusion Matrix'}, xlabel='Predicted label', ylabel='True label'>"
      ]
     },
     "execution_count": 54,
     "metadata": {},
     "output_type": "execute_result"
    },
    {
     "data": {
      "image/png": "[encoded data removed]",
      "text/plain": [
       "<Figure size 720x360 with 2 Axes>"
      ]
     },
     "metadata": {
      "needs_background": "light"
     },
     "output_type": "display_data"
    }
   ],
   "source": [
    "pred3 = model3.predict(x_test)\n",
    "matrix3 = (y_test,pred3)\n",
    "skplt.metrics.plot_confusion_matrix(y_test ,pred3 ,figsize=(10,5))"
   ]
  },
  {
   "cell_type": "markdown",
   "id": "registered-intellectual",
   "metadata": {},
   "source": [
    "# Random Forest Classifier"
   ]
  },
  {
   "cell_type": "code",
   "execution_count": 55,
   "id": "educated-algorithm",
   "metadata": {
    "execution": {
     "iopub.execute_input": "2021-05-21T22:23:19.693506Z",
     "iopub.status.busy": "2021-05-21T22:23:19.693201Z",
     "iopub.status.idle": "2021-05-21T22:25:06.884066Z",
     "shell.execute_reply": "2021-05-21T22:25:06.883023Z",
     "shell.execute_reply.started": "2021-05-21T22:23:19.69348Z"
    }
   },
   "outputs": [
    {
     "name": "stdout",
     "output_type": "stream",
     "text": [
      "Best: 0.834056 using {'criterion': 'entropy', 'max_features': 'log2', 'n_estimators': 1000, 'random_state': 5}\n"
     ]
    }
   ],
   "source": [
    "model = RandomForestClassifier()\n",
    "n_estimators = [250,500,750,1000]\n",
    "criterion = ['gini','entropy']\n",
    "max_features = ['auto','sqrt','log2']\n",
    "random_state = [5]\n",
    "# define grid search\n",
    "grid = dict(n_estimators=n_estimators,criterion=criterion,max_features =max_features,random_state = random_state )\n",
    "cv = RepeatedStratifiedKFold(n_splits=10, n_repeats=3, random_state=1)\n",
    "grid_search = GridSearchCV(estimator=model, param_grid=grid, cv=cv, scoring='accuracy')\n",
    "grid_result = grid_search.fit(x_train, y_train)\n",
    "# summarize results\n",
    "print(\"Best: %f using %s\" % (grid_result.best_score_, grid_result.best_params_))\n",
    "# means = grid_result.cv_results_['mean_test_score']\n",
    "# stds = grid_result.cv_results_['std_test_score']\n",
    "# params = grid_result.cv_results_['params']\n",
    "# for mean, stdev, param in zip(means, stds, params):\n",
    "#     print(\"%f (%f) with: %r\" % (mean, stdev, param))"
   ]
  },
  {
   "cell_type": "code",
   "execution_count": 56,
   "id": "square-celtic",
   "metadata": {
    "execution": {
     "iopub.execute_input": "2021-05-21T22:25:06.886737Z",
     "iopub.status.busy": "2021-05-21T22:25:06.886348Z",
     "iopub.status.idle": "2021-05-21T22:25:07.271789Z",
     "shell.execute_reply": "2021-05-21T22:25:07.270728Z",
     "shell.execute_reply.started": "2021-05-21T22:25:06.886694Z"
    }
   },
   "outputs": [
    {
     "name": "stdout",
     "output_type": "stream",
     "text": [
      "Random Forest Classifier Accuracy --> 86.88524590163934\n",
      "0.8918918918918919\n"
     ]
    }
   ],
   "source": [
    "model4 = RandomForestClassifier(criterion = 'entropy',max_features = 'log2',n_estimators = 1000, random_state = 5)\n",
    "model4.fit(x_train,y_train)\n",
    "accuracy_train4 = model4.score(x_train,y_train)\n",
    "accuracy_train.append(accuracy_train4)\n",
    "accuracy_test4 = model4.score(x_test,y_test)\n",
    "accuracy_test.append(accuracy_test4)\n",
    "y_pred = model4.predict(x_test)\n",
    "recall4 = recall_score(y_test,y_pred)\n",
    "recall_model.append(recall4)\n",
    "print('Random Forest Classifier Accuracy -->',((accuracy_test4)*100))\n",
    "print(recall4)"
   ]
  },
  {
   "cell_type": "code",
   "execution_count": 57,
   "id": "digital-motor",
   "metadata": {
    "execution": {
     "iopub.execute_input": "2021-05-21T22:25:07.273538Z",
     "iopub.status.busy": "2021-05-21T22:25:07.273173Z",
     "iopub.status.idle": "2021-05-21T22:25:07.440982Z",
     "shell.execute_reply": "2021-05-21T22:25:07.439983Z",
     "shell.execute_reply.started": "2021-05-21T22:25:07.273499Z"
    }
   },
   "outputs": [
    {
     "data": {
      "text/plain": [
       "<AxesSubplot:title={'center':'Confusion Matrix'}, xlabel='Predicted label', ylabel='True label'>"
      ]
     },
     "execution_count": 57,
     "metadata": {},
     "output_type": "execute_result"
    },
    {
     "data": {
      "image/png": "[encoded data removed]",
      "text/plain": [
       "<Figure size 720x360 with 2 Axes>"
      ]
     },
     "metadata": {
      "needs_background": "light"
     },
     "output_type": "display_data"
    }
   ],
   "source": [
    "pred4 = model4.predict(x_test)\n",
    "matrix4 = (y_test,pred4)\n",
    "skplt.metrics.plot_confusion_matrix(y_test ,pred4 ,figsize=(10,5))"
   ]
  },
  {
   "cell_type": "markdown",
   "id": "curious-travel",
   "metadata": {},
   "source": [
    "# K-Nearest Neighbors"
   ]
  },
  {
   "cell_type": "code",
   "execution_count": 58,
   "id": "lesser-retailer",
   "metadata": {
    "execution": {
     "iopub.execute_input": "2021-05-22T05:42:16.145697Z",
     "iopub.status.busy": "2021-05-22T05:42:16.145116Z",
     "iopub.status.idle": "2021-05-22T05:42:16.465937Z",
     "shell.execute_reply": "2021-05-22T05:42:16.46483Z",
     "shell.execute_reply.started": "2021-05-22T05:42:16.145652Z"
    }
   },
   "outputs": [
    {
     "name": "stdout",
     "output_type": "stream",
     "text": [
      "Best: 0.833944 using {'metric': 'euclidean', 'n_neighbors': 13, 'weights': 'distance'}\n"
     ]
    }
   ],
   "source": [
    "model = KNeighborsClassifier()\n",
    "n_neighbors = range(1, 21, 2)\n",
    "weights = ['uniform', 'distance']\n",
    "metric = ['euclidean', 'manhattan', 'minkowski']\n",
    "# define grid search\n",
    "grid = dict(n_neighbors=n_neighbors,weights=weights,metric=metric)\n",
    "cv = RepeatedStratifiedKFold(n_splits=10, n_repeats=3, random_state=1)\n",
    "grid_search = GridSearchCV(estimator=model, param_grid=grid, n_jobs=-1, cv=cv, scoring='accuracy',error_score=0)\n",
    "grid_result = grid_search.fit(x_train, y_train)\n",
    "# summarize results\n",
    "print(\"Best: %f using %s\" % (grid_result.best_score_, grid_result.best_params_))\n",
    "# means = grid_result.cv_results_['mean_test_score']\n",
    "# stds = grid_result.cv_results_['std_test_score']\n",
    "# params = grid_result.cv_results_['params']\n",
    "# for mean, stdev, param in zip(means, stds, params):\n",
    "#     print(\"%f (%f) with: %r\" % (mean, stdev, param))\n"
   ]
  },
  {
   "cell_type": "code",
   "execution_count": 59,
   "id": "alike-utility",
   "metadata": {
    "execution": {
     "iopub.execute_input": "2021-05-22T05:42:22.320959Z",
     "iopub.status.busy": "2021-05-22T05:42:22.320615Z",
     "iopub.status.idle": "2021-05-22T05:42:22.336256Z",
     "shell.execute_reply": "2021-05-22T05:42:22.33504Z",
     "shell.execute_reply.started": "2021-05-22T05:42:22.32093Z"
    }
   },
   "outputs": [
    {
     "name": "stdout",
     "output_type": "stream",
     "text": [
      "Gradient Boosting Classifier Accuracy --> 91.80327868852459\n",
      "0.918918918918919\n"
     ]
    }
   ],
   "source": [
    "model5 = KNeighborsClassifier(metric ='euclidean',  n_neighbors = 13, weights = 'distance')\n",
    "model5.fit(x_train,y_train)\n",
    "accuracy_train5 = model5.score(x_train,y_train)\n",
    "accuracy_train.append(accuracy_train5)\n",
    "accuracy_test5 = model5.score(x_test,y_test)\n",
    "accuracy_test.append(accuracy_test5)\n",
    "y_pred = model5.predict(x_test)\n",
    "recall5 = recall_score(y_test,y_pred)\n",
    "recall_model.append(recall5)\n",
    "# accuracy.append(accuracy8)\n",
    "print('Gradient Boosting Classifier Accuracy -->',((accuracy_test5)*100))\n",
    "print(recall5)"
   ]
  },
  {
   "cell_type": "code",
   "execution_count": 60,
   "id": "understood-saudi",
   "metadata": {
    "execution": {
     "iopub.execute_input": "2021-05-22T05:42:26.224336Z",
     "iopub.status.busy": "2021-05-22T05:42:26.223936Z",
     "iopub.status.idle": "2021-05-22T05:42:26.397821Z",
     "shell.execute_reply": "2021-05-22T05:42:26.396887Z",
     "shell.execute_reply.started": "2021-05-22T05:42:26.224298Z"
    }
   },
   "outputs": [
    {
     "data": {
      "text/plain": [
       "<AxesSubplot:title={'center':'Confusion Matrix'}, xlabel='Predicted label', ylabel='True label'>"
      ]
     },
     "execution_count": 60,
     "metadata": {},
     "output_type": "execute_result"
    },
    {
     "data": {
      "image/png": "[encoded data removed]",
      "text/plain": [
       "<Figure size 720x360 with 2 Axes>"
      ]
     },
     "metadata": {
      "needs_background": "light"
     },
     "output_type": "display_data"
    }
   ],
   "source": [
    "pred5 = model5.predict(x_test)\n",
    "matrix5 = (y_test,pred5)\n",
    "skplt.metrics.plot_confusion_matrix(y_test ,pred5 ,figsize=(10,5))"
   ]
  },
  {
   "cell_type": "markdown",
   "id": "objective-conjunction",
   "metadata": {},
   "source": [
    "# Overall accuracies obtained by the models"
   ]
  },
  {
   "cell_type": "code",
   "execution_count": 61,
   "id": "favorite-education",
   "metadata": {
    "execution": {
     "iopub.execute_input": "2021-05-21T22:09:18.255272Z",
     "iopub.status.busy": "2021-05-21T22:09:18.254939Z",
     "iopub.status.idle": "2021-05-21T22:09:18.262199Z",
     "shell.execute_reply": "2021-05-21T22:09:18.261141Z",
     "shell.execute_reply.started": "2021-05-21T22:09:18.255223Z"
    }
   },
   "outputs": [],
   "source": [
    "Models = ['Logistic Regression','Decision Tree','SVC','Random Forest Classifier','K-Nearest Neighbors']\n",
    "total_v2 = list(zip(Models,accuracy_train,accuracy_test,recall_model))\n",
    "output_v2 = pd.DataFrame(total_v2, columns = ['Models','Accuracy_train','Accuracy_test','Recall'])"
   ]
  },
  {
   "cell_type": "code",
   "execution_count": 62,
   "id": "formed-madrid",
   "metadata": {},
   "outputs": [
    {
     "data": {
      "text/html": [
       "<div>\n",
       "<style scoped>\n",
       "    .dataframe tbody tr th:only-of-type {\n",
       "        vertical-align: middle;\n",
       "    }\n",
       "\n",
       "    .dataframe tbody tr th {\n",
       "        vertical-align: top;\n",
       "    }\n",
       "\n",
       "    .dataframe thead th {\n",
       "        text-align: right;\n",
       "    }\n",
       "</style>\n",
       "<table border=\"1\" class=\"dataframe\">\n",
       "  <thead>\n",
       "    <tr style=\"text-align: right;\">\n",
       "      <th></th>\n",
       "      <th>Models</th>\n",
       "      <th>Accuracy_train</th>\n",
       "      <th>Accuracy_test</th>\n",
       "      <th>Recall</th>\n",
       "    </tr>\n",
       "  </thead>\n",
       "  <tbody>\n",
       "    <tr>\n",
       "      <th>0</th>\n",
       "      <td>Logistic Regression</td>\n",
       "      <td>0.858921</td>\n",
       "      <td>0.901639</td>\n",
       "      <td>0.945946</td>\n",
       "    </tr>\n",
       "    <tr>\n",
       "      <th>1</th>\n",
       "      <td>Decision Tree</td>\n",
       "      <td>1.000000</td>\n",
       "      <td>0.803279</td>\n",
       "      <td>0.810811</td>\n",
       "    </tr>\n",
       "    <tr>\n",
       "      <th>2</th>\n",
       "      <td>SVC</td>\n",
       "      <td>0.867220</td>\n",
       "      <td>0.918033</td>\n",
       "      <td>0.945946</td>\n",
       "    </tr>\n",
       "    <tr>\n",
       "      <th>3</th>\n",
       "      <td>Random Forest Classifier</td>\n",
       "      <td>1.000000</td>\n",
       "      <td>0.868852</td>\n",
       "      <td>0.891892</td>\n",
       "    </tr>\n",
       "    <tr>\n",
       "      <th>4</th>\n",
       "      <td>K-Nearest Neighbors</td>\n",
       "      <td>1.000000</td>\n",
       "      <td>0.918033</td>\n",
       "      <td>0.918919</td>\n",
       "    </tr>\n",
       "  </tbody>\n",
       "</table>\n",
       "</div>"
      ],
      "text/plain": [
       "                     Models  Accuracy_train  Accuracy_test    Recall\n",
       "0       Logistic Regression        0.858921       0.901639  0.945946\n",
       "1             Decision Tree        1.000000       0.803279  0.810811\n",
       "2                       SVC        0.867220       0.918033  0.945946\n",
       "3  Random Forest Classifier        1.000000       0.868852  0.891892\n",
       "4       K-Nearest Neighbors        1.000000       0.918033  0.918919"
      ]
     },
     "execution_count": 62,
     "metadata": {},
     "output_type": "execute_result"
    }
   ],
   "source": [
    "output_v2"
   ]
  },
  {
   "cell_type": "code",
   "execution_count": 63,
   "id": "mighty-maple",
   "metadata": {
    "execution": {
     "iopub.execute_input": "2021-05-21T22:09:18.263998Z",
     "iopub.status.busy": "2021-05-21T22:09:18.263639Z",
     "iopub.status.idle": "2021-05-21T22:09:18.428973Z",
     "shell.execute_reply": "2021-05-21T22:09:18.428035Z",
     "shell.execute_reply.started": "2021-05-21T22:09:18.26396Z"
    }
   },
   "outputs": [
    {
     "data": {
      "text/html": [
       "<style  type=\"text/css\" >\n",
       "#T_09b9ef1e_c03d_11eb_87a4_d45d64652f2crow0_col1,#T_09b9ef1e_c03d_11eb_87a4_d45d64652f2crow0_col2,#T_09b9ef1e_c03d_11eb_87a4_d45d64652f2crow1_col2,#T_09b9ef1e_c03d_11eb_87a4_d45d64652f2crow1_col3,#T_09b9ef1e_c03d_11eb_87a4_d45d64652f2crow2_col3,#T_09b9ef1e_c03d_11eb_87a4_d45d64652f2crow3_col1,#T_09b9ef1e_c03d_11eb_87a4_d45d64652f2crow4_col1{\n",
       "            background-color:  #67000d;\n",
       "            color:  #f1f1f1;\n",
       "        }#T_09b9ef1e_c03d_11eb_87a4_d45d64652f2crow0_col3{\n",
       "            background-color:  #bc141a;\n",
       "            color:  #f1f1f1;\n",
       "        }#T_09b9ef1e_c03d_11eb_87a4_d45d64652f2crow1_col1{\n",
       "            background-color:  #ffebe2;\n",
       "            color:  #000000;\n",
       "        }#T_09b9ef1e_c03d_11eb_87a4_d45d64652f2crow2_col1,#T_09b9ef1e_c03d_11eb_87a4_d45d64652f2crow4_col2,#T_09b9ef1e_c03d_11eb_87a4_d45d64652f2crow4_col3{\n",
       "            background-color:  #fff5f0;\n",
       "            color:  #000000;\n",
       "        }#T_09b9ef1e_c03d_11eb_87a4_d45d64652f2crow2_col2{\n",
       "            background-color:  #aa1016;\n",
       "            color:  #f1f1f1;\n",
       "        }#T_09b9ef1e_c03d_11eb_87a4_d45d64652f2crow3_col2{\n",
       "            background-color:  #f44f39;\n",
       "            color:  #000000;\n",
       "        }#T_09b9ef1e_c03d_11eb_87a4_d45d64652f2crow3_col3{\n",
       "            background-color:  #f14432;\n",
       "            color:  #f1f1f1;\n",
       "        }</style><table id=\"T_09b9ef1e_c03d_11eb_87a4_d45d64652f2c\" ><thead>    <tr>        <th class=\"blank level0\" ></th>        <th class=\"col_heading level0 col0\" >Models</th>        <th class=\"col_heading level0 col1\" >Accuracy_train</th>        <th class=\"col_heading level0 col2\" >Accuracy_test</th>        <th class=\"col_heading level0 col3\" >Recall</th>    </tr></thead><tbody>\n",
       "                <tr>\n",
       "                        <th id=\"T_09b9ef1e_c03d_11eb_87a4_d45d64652f2clevel0_row0\" class=\"row_heading level0 row0\" >1</th>\n",
       "                        <td id=\"T_09b9ef1e_c03d_11eb_87a4_d45d64652f2crow0_col0\" class=\"data row0 col0\" >K-Nearest Neighbors</td>\n",
       "                        <td id=\"T_09b9ef1e_c03d_11eb_87a4_d45d64652f2crow0_col1\" class=\"data row0 col1\" >1.000000</td>\n",
       "                        <td id=\"T_09b9ef1e_c03d_11eb_87a4_d45d64652f2crow0_col2\" class=\"data row0 col2\" >0.918033</td>\n",
       "                        <td id=\"T_09b9ef1e_c03d_11eb_87a4_d45d64652f2crow0_col3\" class=\"data row0 col3\" >0.918919</td>\n",
       "            </tr>\n",
       "            <tr>\n",
       "                        <th id=\"T_09b9ef1e_c03d_11eb_87a4_d45d64652f2clevel0_row1\" class=\"row_heading level0 row1\" >4</th>\n",
       "                        <td id=\"T_09b9ef1e_c03d_11eb_87a4_d45d64652f2crow1_col0\" class=\"data row1 col0\" >SVC</td>\n",
       "                        <td id=\"T_09b9ef1e_c03d_11eb_87a4_d45d64652f2crow1_col1\" class=\"data row1 col1\" >0.867220</td>\n",
       "                        <td id=\"T_09b9ef1e_c03d_11eb_87a4_d45d64652f2crow1_col2\" class=\"data row1 col2\" >0.918033</td>\n",
       "                        <td id=\"T_09b9ef1e_c03d_11eb_87a4_d45d64652f2crow1_col3\" class=\"data row1 col3\" >0.945946</td>\n",
       "            </tr>\n",
       "            <tr>\n",
       "                        <th id=\"T_09b9ef1e_c03d_11eb_87a4_d45d64652f2clevel0_row2\" class=\"row_heading level0 row2\" >2</th>\n",
       "                        <td id=\"T_09b9ef1e_c03d_11eb_87a4_d45d64652f2crow2_col0\" class=\"data row2 col0\" >Logistic Regression</td>\n",
       "                        <td id=\"T_09b9ef1e_c03d_11eb_87a4_d45d64652f2crow2_col1\" class=\"data row2 col1\" >0.858921</td>\n",
       "                        <td id=\"T_09b9ef1e_c03d_11eb_87a4_d45d64652f2crow2_col2\" class=\"data row2 col2\" >0.901639</td>\n",
       "                        <td id=\"T_09b9ef1e_c03d_11eb_87a4_d45d64652f2crow2_col3\" class=\"data row2 col3\" >0.945946</td>\n",
       "            </tr>\n",
       "            <tr>\n",
       "                        <th id=\"T_09b9ef1e_c03d_11eb_87a4_d45d64652f2clevel0_row3\" class=\"row_heading level0 row3\" >3</th>\n",
       "                        <td id=\"T_09b9ef1e_c03d_11eb_87a4_d45d64652f2crow3_col0\" class=\"data row3 col0\" >Random Forest Classifier</td>\n",
       "                        <td id=\"T_09b9ef1e_c03d_11eb_87a4_d45d64652f2crow3_col1\" class=\"data row3 col1\" >1.000000</td>\n",
       "                        <td id=\"T_09b9ef1e_c03d_11eb_87a4_d45d64652f2crow3_col2\" class=\"data row3 col2\" >0.868852</td>\n",
       "                        <td id=\"T_09b9ef1e_c03d_11eb_87a4_d45d64652f2crow3_col3\" class=\"data row3 col3\" >0.891892</td>\n",
       "            </tr>\n",
       "            <tr>\n",
       "                        <th id=\"T_09b9ef1e_c03d_11eb_87a4_d45d64652f2clevel0_row4\" class=\"row_heading level0 row4\" >0</th>\n",
       "                        <td id=\"T_09b9ef1e_c03d_11eb_87a4_d45d64652f2crow4_col0\" class=\"data row4 col0\" >Decision Tree</td>\n",
       "                        <td id=\"T_09b9ef1e_c03d_11eb_87a4_d45d64652f2crow4_col1\" class=\"data row4 col1\" >1.000000</td>\n",
       "                        <td id=\"T_09b9ef1e_c03d_11eb_87a4_d45d64652f2crow4_col2\" class=\"data row4 col2\" >0.803279</td>\n",
       "                        <td id=\"T_09b9ef1e_c03d_11eb_87a4_d45d64652f2crow4_col3\" class=\"data row4 col3\" >0.810811</td>\n",
       "            </tr>\n",
       "    </tbody></table>"
      ],
      "text/plain": [
       "<pandas.io.formats.style.Styler at 0x1d76461ca88>"
      ]
     },
     "execution_count": 63,
     "metadata": {},
     "output_type": "execute_result"
    }
   ],
   "source": [
    "s_v2 = output_v2.groupby(['Models'])['Accuracy_train','Accuracy_test','Recall'].mean().reset_index().sort_values(by='Accuracy_test',ascending=False)\n",
    "s_v2.head(10).style.background_gradient(cmap='Reds')"
   ]
  },
  {
   "cell_type": "markdown",
   "id": "rough-thinking",
   "metadata": {},
   "source": [
    "Random Forest and Decision Tree : overfiting"
   ]
  },
  {
   "cell_type": "code",
   "execution_count": 64,
   "id": "innocent-sullivan",
   "metadata": {},
   "outputs": [],
   "source": [
    "result_s1s2 = pd.concat([s_v1,s_v2],axis = 'columns')"
   ]
  },
  {
   "cell_type": "code",
   "execution_count": 65,
   "id": "featured-denial",
   "metadata": {},
   "outputs": [
    {
     "data": {
      "text/html": [
       "<div>\n",
       "<style scoped>\n",
       "    .dataframe tbody tr th:only-of-type {\n",
       "        vertical-align: middle;\n",
       "    }\n",
       "\n",
       "    .dataframe tbody tr th {\n",
       "        vertical-align: top;\n",
       "    }\n",
       "\n",
       "    .dataframe thead th {\n",
       "        text-align: right;\n",
       "    }\n",
       "</style>\n",
       "<table border=\"1\" class=\"dataframe\">\n",
       "  <thead>\n",
       "    <tr style=\"text-align: right;\">\n",
       "      <th></th>\n",
       "      <th>Models</th>\n",
       "      <th>Accuracy_train</th>\n",
       "      <th>Accuracy_test</th>\n",
       "      <th>Recall</th>\n",
       "      <th>Models</th>\n",
       "      <th>Accuracy_train</th>\n",
       "      <th>Accuracy_test</th>\n",
       "      <th>Recall</th>\n",
       "    </tr>\n",
       "  </thead>\n",
       "  <tbody>\n",
       "    <tr>\n",
       "      <th>0</th>\n",
       "      <td>Decision Tree</td>\n",
       "      <td>1.000000</td>\n",
       "      <td>0.721311</td>\n",
       "      <td>0.703704</td>\n",
       "      <td>Decision Tree</td>\n",
       "      <td>1.000000</td>\n",
       "      <td>0.803279</td>\n",
       "      <td>0.810811</td>\n",
       "    </tr>\n",
       "    <tr>\n",
       "      <th>1</th>\n",
       "      <td>K-Nearest Neighbors</td>\n",
       "      <td>0.838174</td>\n",
       "      <td>0.852459</td>\n",
       "      <td>0.925926</td>\n",
       "      <td>K-Nearest Neighbors</td>\n",
       "      <td>1.000000</td>\n",
       "      <td>0.918033</td>\n",
       "      <td>0.918919</td>\n",
       "    </tr>\n",
       "    <tr>\n",
       "      <th>2</th>\n",
       "      <td>Logistic Regression</td>\n",
       "      <td>0.863071</td>\n",
       "      <td>0.819672</td>\n",
       "      <td>0.888889</td>\n",
       "      <td>Logistic Regression</td>\n",
       "      <td>0.858921</td>\n",
       "      <td>0.901639</td>\n",
       "      <td>0.945946</td>\n",
       "    </tr>\n",
       "    <tr>\n",
       "      <th>3</th>\n",
       "      <td>Random Forest Classifier</td>\n",
       "      <td>1.000000</td>\n",
       "      <td>0.836066</td>\n",
       "      <td>0.888889</td>\n",
       "      <td>Random Forest Classifier</td>\n",
       "      <td>1.000000</td>\n",
       "      <td>0.868852</td>\n",
       "      <td>0.891892</td>\n",
       "    </tr>\n",
       "    <tr>\n",
       "      <th>4</th>\n",
       "      <td>SVC</td>\n",
       "      <td>0.879668</td>\n",
       "      <td>0.836066</td>\n",
       "      <td>0.962963</td>\n",
       "      <td>SVC</td>\n",
       "      <td>0.867220</td>\n",
       "      <td>0.918033</td>\n",
       "      <td>0.945946</td>\n",
       "    </tr>\n",
       "  </tbody>\n",
       "</table>\n",
       "</div>"
      ],
      "text/plain": [
       "                     Models  Accuracy_train  Accuracy_test    Recall  \\\n",
       "0             Decision Tree        1.000000       0.721311  0.703704   \n",
       "1       K-Nearest Neighbors        0.838174       0.852459  0.925926   \n",
       "2       Logistic Regression        0.863071       0.819672  0.888889   \n",
       "3  Random Forest Classifier        1.000000       0.836066  0.888889   \n",
       "4                       SVC        0.879668       0.836066  0.962963   \n",
       "\n",
       "                     Models  Accuracy_train  Accuracy_test    Recall  \n",
       "0             Decision Tree        1.000000       0.803279  0.810811  \n",
       "1       K-Nearest Neighbors        1.000000       0.918033  0.918919  \n",
       "2       Logistic Regression        0.858921       0.901639  0.945946  \n",
       "3  Random Forest Classifier        1.000000       0.868852  0.891892  \n",
       "4                       SVC        0.867220       0.918033  0.945946  "
      ]
     },
     "execution_count": 65,
     "metadata": {},
     "output_type": "execute_result"
    }
   ],
   "source": [
    "result_s1s2"
   ]
  },
  {
   "cell_type": "code",
   "execution_count": 66,
   "id": "operational-digit",
   "metadata": {},
   "outputs": [
    {
     "data": {
      "text/html": [
       "<div>\n",
       "<style scoped>\n",
       "    .dataframe tbody tr th:only-of-type {\n",
       "        vertical-align: middle;\n",
       "    }\n",
       "\n",
       "    .dataframe tbody tr th {\n",
       "        vertical-align: top;\n",
       "    }\n",
       "\n",
       "    .dataframe thead th {\n",
       "        text-align: right;\n",
       "    }\n",
       "</style>\n",
       "<table border=\"1\" class=\"dataframe\">\n",
       "  <thead>\n",
       "    <tr style=\"text-align: right;\">\n",
       "      <th></th>\n",
       "      <th>Models</th>\n",
       "      <th>Accuracy_train</th>\n",
       "      <th>Accuracy_test</th>\n",
       "      <th>Recall</th>\n",
       "    </tr>\n",
       "  </thead>\n",
       "  <tbody>\n",
       "    <tr>\n",
       "      <th>1</th>\n",
       "      <td>K-Nearest Neighbors</td>\n",
       "      <td>0.838174</td>\n",
       "      <td>0.852459</td>\n",
       "      <td>0.925926</td>\n",
       "    </tr>\n",
       "    <tr>\n",
       "      <th>3</th>\n",
       "      <td>Random Forest Classifier</td>\n",
       "      <td>1.000000</td>\n",
       "      <td>0.836066</td>\n",
       "      <td>0.888889</td>\n",
       "    </tr>\n",
       "    <tr>\n",
       "      <th>4</th>\n",
       "      <td>SVC</td>\n",
       "      <td>0.879668</td>\n",
       "      <td>0.836066</td>\n",
       "      <td>0.962963</td>\n",
       "    </tr>\n",
       "    <tr>\n",
       "      <th>2</th>\n",
       "      <td>Logistic Regression</td>\n",
       "      <td>0.863071</td>\n",
       "      <td>0.819672</td>\n",
       "      <td>0.888889</td>\n",
       "    </tr>\n",
       "    <tr>\n",
       "      <th>0</th>\n",
       "      <td>Decision Tree</td>\n",
       "      <td>1.000000</td>\n",
       "      <td>0.721311</td>\n",
       "      <td>0.703704</td>\n",
       "    </tr>\n",
       "  </tbody>\n",
       "</table>\n",
       "</div>"
      ],
      "text/plain": [
       "                     Models  Accuracy_train  Accuracy_test    Recall\n",
       "1       K-Nearest Neighbors        0.838174       0.852459  0.925926\n",
       "3  Random Forest Classifier        1.000000       0.836066  0.888889\n",
       "4                       SVC        0.879668       0.836066  0.962963\n",
       "2       Logistic Regression        0.863071       0.819672  0.888889\n",
       "0             Decision Tree        1.000000       0.721311  0.703704"
      ]
     },
     "execution_count": 66,
     "metadata": {},
     "output_type": "execute_result"
    }
   ],
   "source": [
    "s_v1"
   ]
  },
  {
   "cell_type": "code",
   "execution_count": 67,
   "id": "heated-amateur",
   "metadata": {},
   "outputs": [
    {
     "data": {
      "text/html": [
       "<div>\n",
       "<style scoped>\n",
       "    .dataframe tbody tr th:only-of-type {\n",
       "        vertical-align: middle;\n",
       "    }\n",
       "\n",
       "    .dataframe tbody tr th {\n",
       "        vertical-align: top;\n",
       "    }\n",
       "\n",
       "    .dataframe thead th {\n",
       "        text-align: right;\n",
       "    }\n",
       "</style>\n",
       "<table border=\"1\" class=\"dataframe\">\n",
       "  <thead>\n",
       "    <tr style=\"text-align: right;\">\n",
       "      <th></th>\n",
       "      <th>Models</th>\n",
       "      <th>Accuracy_train</th>\n",
       "      <th>Accuracy_test</th>\n",
       "      <th>Recall</th>\n",
       "    </tr>\n",
       "  </thead>\n",
       "  <tbody>\n",
       "    <tr>\n",
       "      <th>1</th>\n",
       "      <td>K-Nearest Neighbors</td>\n",
       "      <td>1.000000</td>\n",
       "      <td>0.918033</td>\n",
       "      <td>0.918919</td>\n",
       "    </tr>\n",
       "    <tr>\n",
       "      <th>4</th>\n",
       "      <td>SVC</td>\n",
       "      <td>0.867220</td>\n",
       "      <td>0.918033</td>\n",
       "      <td>0.945946</td>\n",
       "    </tr>\n",
       "    <tr>\n",
       "      <th>2</th>\n",
       "      <td>Logistic Regression</td>\n",
       "      <td>0.858921</td>\n",
       "      <td>0.901639</td>\n",
       "      <td>0.945946</td>\n",
       "    </tr>\n",
       "    <tr>\n",
       "      <th>3</th>\n",
       "      <td>Random Forest Classifier</td>\n",
       "      <td>1.000000</td>\n",
       "      <td>0.868852</td>\n",
       "      <td>0.891892</td>\n",
       "    </tr>\n",
       "    <tr>\n",
       "      <th>0</th>\n",
       "      <td>Decision Tree</td>\n",
       "      <td>1.000000</td>\n",
       "      <td>0.803279</td>\n",
       "      <td>0.810811</td>\n",
       "    </tr>\n",
       "  </tbody>\n",
       "</table>\n",
       "</div>"
      ],
      "text/plain": [
       "                     Models  Accuracy_train  Accuracy_test    Recall\n",
       "1       K-Nearest Neighbors        1.000000       0.918033  0.918919\n",
       "4                       SVC        0.867220       0.918033  0.945946\n",
       "2       Logistic Regression        0.858921       0.901639  0.945946\n",
       "3  Random Forest Classifier        1.000000       0.868852  0.891892\n",
       "0             Decision Tree        1.000000       0.803279  0.810811"
      ]
     },
     "execution_count": 67,
     "metadata": {},
     "output_type": "execute_result"
    }
   ],
   "source": [
    "s_v2"
   ]
  }
 ],
 "metadata": {
  "kernelspec": {
   "display_name": "Python 3",
   "language": "python",
   "name": "python3"
  },
  "language_info": {
   "codemirror_mode": {
    "name": "ipython",
    "version": 3
   },
   "file_extension": ".py",
   "mimetype": "text/x-python",
   "name": "python",
   "nbconvert_exporter": "python",
   "pygments_lexer": "ipython3",
   "version": "3.7.9"
  }
 },
 "nbformat": 4,
 "nbformat_minor": 5
}
